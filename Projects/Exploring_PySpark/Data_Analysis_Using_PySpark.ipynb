{
  "nbformat": 4,
  "nbformat_minor": 0,
  "metadata": {
    "colab": {
      "provenance": [],
      "authorship_tag": "ABX9TyPuPJUoigEBUHh1HcKP0lpr",
      "include_colab_link": true
    },
    "kernelspec": {
      "name": "python3",
      "display_name": "Python 3"
    },
    "language_info": {
      "name": "python"
    }
  },
  "cells": [
    {
      "cell_type": "markdown",
      "metadata": {
        "id": "view-in-github",
        "colab_type": "text"
      },
      "source": [
        "<a href=\"https://colab.research.google.com/github/AnkitaDasData/AnalyticsHub/blob/main/Projects/Exploring_PySpark/Data_Analysis_Using_PySpark.ipynb\" target=\"_parent\"><img src=\"https://colab.research.google.com/assets/colab-badge.svg\" alt=\"Open In Colab\"/></a>"
      ]
    },
    {
      "cell_type": "code",
      "execution_count": 75,
      "metadata": {
        "id": "6ffn9ZKF4BE5"
      },
      "outputs": [],
      "source": []
    },
    {
      "cell_type": "markdown",
      "source": [
        "# PySpark is considered a powerful tool for data processing and analysis - PySpark integrates seamlessly with Python libraries and utilizes in-memory computation for fast data processing, making it highly effective for complex analyses."
      ],
      "metadata": {
        "id": "Oxky1MEBrS0O"
      }
    },
    {
      "cell_type": "markdown",
      "source": [
        "# 4 learning objectives:\n",
        "\n",
        "# 1.Setting up modules\n",
        "\n",
        "# 2.Exploring functions\n",
        "\n",
        "# 3.Applying different queries to dataset to extract useful Information\n",
        "\n",
        "# 4.Visualization basics with matplotlib\n",
        "  \n"
      ],
      "metadata": {
        "id": "dA8I25KS4NyC"
      }
    },
    {
      "cell_type": "code",
      "source": [],
      "metadata": {
        "id": "vQfnTkdk5Yl6"
      },
      "execution_count": null,
      "outputs": []
    },
    {
      "cell_type": "markdown",
      "source": [
        "# 1. Setting up modules"
      ],
      "metadata": {
        "id": "gsTR5T0W5Zj5"
      }
    },
    {
      "cell_type": "code",
      "source": [
        "#MOUNTING FOLDER/LOCATION for files\n",
        "# loading data\n",
        "import os\n",
        "from google.colab import drive\n",
        "\n",
        "# Define the mount point and your directory path\n",
        "mount_path = '/content/drive/MyDrive/AnalyticsHub/Projects/Exploring_PySpark'\n",
        "\n",
        "# Unmount the drive first to avoid issues\n",
        "if os.path.exists('/content/drive'):\n",
        "    try:\n",
        "        drive.flush_and_unmount()\n",
        "        print(\"Successfully unmounted the drive.\")\n",
        "    except:\n",
        "        print(\"Drive not mounted, skipping unmount step.\")\n",
        "\n",
        "# Now, remove any existing files from the mount point if needed\n",
        "if os.path.exists('/content/drive'):\n",
        "    try:\n",
        "        os.system('rm -rf /content/drive')\n",
        "        print(\"Cleared the existing mount point.\")\n",
        "    except Exception as e:\n",
        "        print(f\"Error clearing mount point: {e}\")\n",
        "\n",
        "# Remount Google Drive\n",
        "try:\n",
        "    drive.mount('/content/drive', force_remount=True)  # Mount the drive\n",
        "    print(\"Google Drive mounted successfully.\")\n",
        "\n",
        "    # Create the target directory if it doesn't exist\n",
        "    if not os.path.exists(mount_path):\n",
        "        os.makedirs(mount_path)\n",
        "        print(f\"Created directory: {mount_path}\")\n",
        "except ValueError as e:\n",
        "    print(f\"Failed to mount Google Drive: {e}\")\n",
        "\n"
      ],
      "metadata": {
        "colab": {
          "base_uri": "https://localhost:8080/"
        },
        "id": "KB-hYOkt8edd",
        "outputId": "92137c50-756a-4c26-b292-2024de3eed73"
      },
      "execution_count": 76,
      "outputs": [
        {
          "output_type": "stream",
          "name": "stdout",
          "text": [
            "Successfully unmounted the drive.\n",
            "Mounted at /content/drive\n",
            "Google Drive mounted successfully.\n"
          ]
        }
      ]
    },
    {
      "cell_type": "code",
      "source": [
        "# INSTALLING PYSPARK\n",
        "!pip install pyspark"
      ],
      "metadata": {
        "colab": {
          "base_uri": "https://localhost:8080/"
        },
        "id": "ylEOyKwl-fQ-",
        "outputId": "a03a3c06-d8c0-4edb-ca7b-6757a51322e4"
      },
      "execution_count": 77,
      "outputs": [
        {
          "output_type": "stream",
          "name": "stdout",
          "text": [
            "Requirement already satisfied: pyspark in /usr/local/lib/python3.10/dist-packages (3.5.3)\n",
            "Requirement already satisfied: py4j==0.10.9.7 in /usr/local/lib/python3.10/dist-packages (from pyspark) (0.10.9.7)\n"
          ]
        }
      ]
    },
    {
      "cell_type": "code",
      "source": [
        "# IMPORTING MODULES\n",
        "from pyspark.sql import SparkSession\n",
        "from pyspark.sql.functions import count, desc , col, max , asc, sum , struct, when, countDistinct, broadcast\n",
        "import matplotlib.pyplot as plts"
      ],
      "metadata": {
        "id": "JVM-yhz_-oEB"
      },
      "execution_count": 78,
      "outputs": []
    },
    {
      "cell_type": "code",
      "source": [
        "# CREATING SPARK SESSION\n",
        "spark = SparkSession.builder.appName(\"spark_app\").getOrCreate()"
      ],
      "metadata": {
        "id": "gwosF2jq_EjU"
      },
      "execution_count": 79,
      "outputs": []
    },
    {
      "cell_type": "code",
      "source": [
        "# IMPRORTING Listening DATA\n",
        "# Listenings.csv\n",
        "listeningcsv_path = '/content/drive/MyDrive/AnalyticsHub/Projects/Exploring_PySpark/listenings.csv'\n",
        "\n",
        "# Check if file exists\n",
        "if not os.path.exists(listeningcsv_path):\n",
        "    raise FileNotFoundError(f\"File not found: {listeningcsv_path}\")\n",
        "\n",
        "# Load the data\n",
        "listening_df = spark.read\\\n",
        "    .format('csv') \\\n",
        "    .option('inferSchema', True)\\\n",
        "    .option('header', True)\\\n",
        "    .load(listeningcsv_path)"
      ],
      "metadata": {
        "id": "fb-72S8K_TrQ"
      },
      "execution_count": 80,
      "outputs": []
    },
    {
      "cell_type": "code",
      "source": [
        "# EXPLORING Listening DATA\n",
        "listening_df.show()\n",
        "# pyspark dataframe is not identical to pandas dataframe"
      ],
      "metadata": {
        "colab": {
          "base_uri": "https://localhost:8080/"
        },
        "id": "iteuWsHy_3EY",
        "outputId": "b4bfd717-0ae5-4538-d208-9e64e27a0352"
      },
      "execution_count": 81,
      "outputs": [
        {
          "output_type": "stream",
          "name": "stdout",
          "text": [
            "+-----------+-------------+--------------------+---------------+--------------------+\n",
            "|    user_id|         date|               track|         artist|               album|\n",
            "+-----------+-------------+--------------------+---------------+--------------------+\n",
            "|000Silenced|1299680100000|           Price Tag|       Jessie J|         Who You Are|\n",
            "|000Silenced|1299679920000|Price Tag (Acoust...|       Jessie J|           Price Tag|\n",
            "|000Silenced|1299679440000|Be Mine! (Ballad ...|          Robyn|            Be Mine!|\n",
            "|000Silenced|1299679200000|            Acapella|          Kelis|            Acapella|\n",
            "|000Silenced|1299675660000|   I'm Not Invisible|      The Tease|   I'm Not Invisible|\n",
            "|000Silenced|1297511400000|Bounce (Feat NORE...|       MSTRKRFT|         Fist of God|\n",
            "|000Silenced|1294498440000|Don't Stop The Mu...|        Rihanna|Addicted 2 Bassli...|\n",
            "|000Silenced|1292438340000|               ObZen|      Meshuggah|               ObZen|\n",
            "|000Silenced|1292437740000|   Yama's Messengers|         Gojira|The Way of All Flesh|\n",
            "|000Silenced|1292436360000|On the Brink of E...|   Napalm Death|Time Waits For No...|\n",
            "|000Silenced|1292436360000|On the Brink of E...|   Napalm Death|Time Waits For No...|\n",
            "|000Silenced|1292435940000|        In Deference|   Napalm Death|      Smear Campaign|\n",
            "|000Silenced|1292434920000|      Post(?)organic|    Decapitated|Organic Hallucinosis|\n",
            "|000Silenced|1292434560000|        Mind Feeders|   Dom & Roland| No Strings Attached|\n",
            "|000Silenced|1292434320000|Necrosadistic War...|Cannibal Corpse|                Kill|\n",
            "|000Silenced|1292365560000|     Dance All Night|   Dom & Roland|          Chronology|\n",
            "|000Silenced|1292365260000|          Late Night|   Dom & Roland|          Chronology|\n",
            "|000Silenced|1292365020000|          Freak Seen|   Dom & Roland|          Chronology|\n",
            "|000Silenced|1292364720000|Paradrenasite (Hi...|   Dom & Roland|          Chronology|\n",
            "|000Silenced|1292364300000|               Rhino|   Dom & Roland|          Chronology|\n",
            "+-----------+-------------+--------------------+---------------+--------------------+\n",
            "only showing top 20 rows\n",
            "\n"
          ]
        }
      ]
    },
    {
      "cell_type": "code",
      "source": [
        "#ignoring data in date column / DROPPING COLUMNS\n",
        "listening_df = listening_df.drop('date')\n"
      ],
      "metadata": {
        "id": "qjYsbP4JByhB"
      },
      "execution_count": 82,
      "outputs": []
    },
    {
      "cell_type": "code",
      "source": [
        "# ignoring data values null / DROPPING ROWS\n",
        "listening_df = listening_df.na.drop()\n"
      ],
      "metadata": {
        "id": "nnMv87DcCCxn"
      },
      "execution_count": 83,
      "outputs": []
    },
    {
      "cell_type": "code",
      "source": [
        "#check metadata\n",
        "listening_df.printSchema()"
      ],
      "metadata": {
        "colab": {
          "base_uri": "https://localhost:8080/"
        },
        "id": "qzCyNaeaCWgx",
        "outputId": "e2cd7cd1-e782-4b3d-e3b3-3aed9e1234b6"
      },
      "execution_count": 84,
      "outputs": [
        {
          "output_type": "stream",
          "name": "stdout",
          "text": [
            "root\n",
            " |-- user_id: string (nullable = true)\n",
            " |-- track: string (nullable = true)\n",
            " |-- artist: string (nullable = true)\n",
            " |-- album: string (nullable = true)\n",
            "\n"
          ]
        }
      ]
    },
    {
      "cell_type": "code",
      "source": [
        "listening_df.isEmpty()"
      ],
      "metadata": {
        "colab": {
          "base_uri": "https://localhost:8080/"
        },
        "id": "xg7fPpxVsrzS",
        "outputId": "54e6d6f6-5356-4bdb-9965-c9d6162e7a4e"
      },
      "execution_count": 85,
      "outputs": [
        {
          "output_type": "execute_result",
          "data": {
            "text/plain": [
              "False"
            ]
          },
          "metadata": {},
          "execution_count": 85
        }
      ]
    },
    {
      "cell_type": "code",
      "source": [
        "listening_df.columns"
      ],
      "metadata": {
        "colab": {
          "base_uri": "https://localhost:8080/"
        },
        "id": "y12QpCFOszR8",
        "outputId": "030c28ef-5c2b-4846-cc3f-11b177ddb7ad"
      },
      "execution_count": 86,
      "outputs": [
        {
          "output_type": "execute_result",
          "data": {
            "text/plain": [
              "['user_id', 'track', 'artist', 'album']"
            ]
          },
          "metadata": {},
          "execution_count": 86
        }
      ]
    },
    {
      "cell_type": "code",
      "source": [
        "listening_df.count()"
      ],
      "metadata": {
        "colab": {
          "base_uri": "https://localhost:8080/"
        },
        "id": "-puZpVBAs7ua",
        "outputId": "96537216-ddf7-4546-db0c-73d98037dc9b"
      },
      "execution_count": 87,
      "outputs": [
        {
          "output_type": "execute_result",
          "data": {
            "text/plain": [
              "13758905"
            ]
          },
          "metadata": {},
          "execution_count": 87
        }
      ]
    },
    {
      "cell_type": "code",
      "source": [
        "listening_df.head(5)"
      ],
      "metadata": {
        "colab": {
          "base_uri": "https://localhost:8080/"
        },
        "id": "68OW1jeJtAjm",
        "outputId": "44157c44-e263-4c2e-a0a5-e65e9cfa4796"
      },
      "execution_count": 88,
      "outputs": [
        {
          "output_type": "execute_result",
          "data": {
            "text/plain": [
              "[Row(user_id='000Silenced', track='Price Tag', artist='Jessie J', album='Who You Are'),\n",
              " Row(user_id='000Silenced', track='Price Tag (Acoustic Version)', artist='Jessie J', album='Price Tag'),\n",
              " Row(user_id='000Silenced', track='Be Mine! (Ballad Version)', artist='Robyn', album='Be Mine!'),\n",
              " Row(user_id='000Silenced', track='Acapella', artist='Kelis', album='Acapella'),\n",
              " Row(user_id='000Silenced', track=\"I'm Not Invisible\", artist='The Tease', album=\"I'm Not Invisible\")]"
            ]
          },
          "metadata": {},
          "execution_count": 88
        }
      ]
    },
    {
      "cell_type": "code",
      "source": [
        "#check shape #No existing function available\n",
        "print(\"rows: \",listening_df.count())\n",
        "print(\"columns: \",len(listening_df.columns))\n",
        "shape = (listening_df.count(), len(listening_df.columns))\n",
        "print(shape)"
      ],
      "metadata": {
        "colab": {
          "base_uri": "https://localhost:8080/"
        },
        "id": "PwCWF_M2ChM-",
        "outputId": "07b4d010-7e53-4063-d1d2-cacf47884799"
      },
      "execution_count": 89,
      "outputs": [
        {
          "output_type": "stream",
          "name": "stdout",
          "text": [
            "rows:  13758905\n",
            "columns:  4\n",
            "(13758905, 4)\n"
          ]
        }
      ]
    },
    {
      "cell_type": "code",
      "source": [
        "# looking into track and artist\n",
        "\n",
        "listening_df.select(\"artist\",\"track\").show()\n"
      ],
      "metadata": {
        "colab": {
          "base_uri": "https://localhost:8080/"
        },
        "id": "riPG5puPDiVi",
        "outputId": "0cf5c3c6-955d-4c60-979d-9ef0f0424f80"
      },
      "execution_count": 90,
      "outputs": [
        {
          "output_type": "stream",
          "name": "stdout",
          "text": [
            "+---------------+--------------------+\n",
            "|         artist|               track|\n",
            "+---------------+--------------------+\n",
            "|       Jessie J|           Price Tag|\n",
            "|       Jessie J|Price Tag (Acoust...|\n",
            "|          Robyn|Be Mine! (Ballad ...|\n",
            "|          Kelis|            Acapella|\n",
            "|      The Tease|   I'm Not Invisible|\n",
            "|       MSTRKRFT|Bounce (Feat NORE...|\n",
            "|        Rihanna|Don't Stop The Mu...|\n",
            "|      Meshuggah|               ObZen|\n",
            "|         Gojira|   Yama's Messengers|\n",
            "|   Napalm Death|On the Brink of E...|\n",
            "|   Napalm Death|On the Brink of E...|\n",
            "|   Napalm Death|        In Deference|\n",
            "|    Decapitated|      Post(?)organic|\n",
            "|   Dom & Roland|        Mind Feeders|\n",
            "|Cannibal Corpse|Necrosadistic War...|\n",
            "|   Dom & Roland|     Dance All Night|\n",
            "|   Dom & Roland|          Late Night|\n",
            "|   Dom & Roland|          Freak Seen|\n",
            "|   Dom & Roland|Paradrenasite (Hi...|\n",
            "|   Dom & Roland|               Rhino|\n",
            "+---------------+--------------------+\n",
            "only showing top 20 rows\n",
            "\n"
          ]
        }
      ]
    },
    {
      "cell_type": "code",
      "source": [
        "first_2_rows = listening_df.take(2)\n",
        "\n",
        "for row in first_2_rows:\n",
        "    print(row)"
      ],
      "metadata": {
        "colab": {
          "base_uri": "https://localhost:8080/"
        },
        "id": "lBp5ueuGt_fk",
        "outputId": "d65edc8a-211d-49a3-f2bc-ee9303fd0b77"
      },
      "execution_count": 91,
      "outputs": [
        {
          "output_type": "stream",
          "name": "stdout",
          "text": [
            "Row(user_id='000Silenced', track='Price Tag', artist='Jessie J', album='Who You Are')\n",
            "Row(user_id='000Silenced', track='Price Tag (Acoustic Version)', artist='Jessie J', album='Price Tag')\n"
          ]
        }
      ]
    },
    {
      "cell_type": "code",
      "source": [
        "# make a dict\n",
        "first_row = listening_df.first()\n",
        "\n",
        "# row to dict\n",
        "row_dict = first_row.asDict()\n",
        "\n",
        "# print the dict\n",
        "print(row_dict)"
      ],
      "metadata": {
        "colab": {
          "base_uri": "https://localhost:8080/"
        },
        "id": "hh0XZn6SuOcU",
        "outputId": "4d027dec-bead-45f1-8ca5-c4eb7274ee3a"
      },
      "execution_count": 92,
      "outputs": [
        {
          "output_type": "stream",
          "name": "stdout",
          "text": [
            "{'user_id': '000Silenced', 'track': 'Price Tag', 'artist': 'Jessie J', 'album': 'Who You Are'}\n"
          ]
        }
      ]
    },
    {
      "cell_type": "code",
      "source": [
        "#withColumn CONDITIONAL COLUMN\n",
        "listening_df = listening_df.withColumn(\"validity\", when(listening_df[\"user_id\"]!=\"\",\"Yes\").otherwise(\"No\"))\n",
        "listening_df.show()"
      ],
      "metadata": {
        "colab": {
          "base_uri": "https://localhost:8080/"
        },
        "id": "FsW6BVCIu2Z5",
        "outputId": "a36dc148-41f6-4ceb-ac75-dc01d55cf4a7"
      },
      "execution_count": 93,
      "outputs": [
        {
          "output_type": "stream",
          "name": "stdout",
          "text": [
            "+-----------+--------------------+---------------+--------------------+--------+\n",
            "|    user_id|               track|         artist|               album|validity|\n",
            "+-----------+--------------------+---------------+--------------------+--------+\n",
            "|000Silenced|           Price Tag|       Jessie J|         Who You Are|     Yes|\n",
            "|000Silenced|Price Tag (Acoust...|       Jessie J|           Price Tag|     Yes|\n",
            "|000Silenced|Be Mine! (Ballad ...|          Robyn|            Be Mine!|     Yes|\n",
            "|000Silenced|            Acapella|          Kelis|            Acapella|     Yes|\n",
            "|000Silenced|   I'm Not Invisible|      The Tease|   I'm Not Invisible|     Yes|\n",
            "|000Silenced|Bounce (Feat NORE...|       MSTRKRFT|         Fist of God|     Yes|\n",
            "|000Silenced|Don't Stop The Mu...|        Rihanna|Addicted 2 Bassli...|     Yes|\n",
            "|000Silenced|               ObZen|      Meshuggah|               ObZen|     Yes|\n",
            "|000Silenced|   Yama's Messengers|         Gojira|The Way of All Flesh|     Yes|\n",
            "|000Silenced|On the Brink of E...|   Napalm Death|Time Waits For No...|     Yes|\n",
            "|000Silenced|On the Brink of E...|   Napalm Death|Time Waits For No...|     Yes|\n",
            "|000Silenced|        In Deference|   Napalm Death|      Smear Campaign|     Yes|\n",
            "|000Silenced|      Post(?)organic|    Decapitated|Organic Hallucinosis|     Yes|\n",
            "|000Silenced|        Mind Feeders|   Dom & Roland| No Strings Attached|     Yes|\n",
            "|000Silenced|Necrosadistic War...|Cannibal Corpse|                Kill|     Yes|\n",
            "|000Silenced|     Dance All Night|   Dom & Roland|          Chronology|     Yes|\n",
            "|000Silenced|          Late Night|   Dom & Roland|          Chronology|     Yes|\n",
            "|000Silenced|          Freak Seen|   Dom & Roland|          Chronology|     Yes|\n",
            "|000Silenced|Paradrenasite (Hi...|   Dom & Roland|          Chronology|     Yes|\n",
            "|000Silenced|               Rhino|   Dom & Roland|          Chronology|     Yes|\n",
            "+-----------+--------------------+---------------+--------------------+--------+\n",
            "only showing top 20 rows\n",
            "\n"
          ]
        }
      ]
    },
    {
      "cell_type": "code",
      "source": [
        "#rename COLUMN\n",
        "listening_df = listening_df.withColumnRenamed(\"validity\",\"validity_column\")\n",
        "listening_df.show()"
      ],
      "metadata": {
        "colab": {
          "base_uri": "https://localhost:8080/"
        },
        "id": "A_SHUUdNofCP",
        "outputId": "e13ef8d1-f41c-4847-cec5-fe0bb0f7070b"
      },
      "execution_count": 94,
      "outputs": [
        {
          "output_type": "stream",
          "name": "stdout",
          "text": [
            "+-----------+--------------------+---------------+--------------------+---------------+\n",
            "|    user_id|               track|         artist|               album|validity_column|\n",
            "+-----------+--------------------+---------------+--------------------+---------------+\n",
            "|000Silenced|           Price Tag|       Jessie J|         Who You Are|            Yes|\n",
            "|000Silenced|Price Tag (Acoust...|       Jessie J|           Price Tag|            Yes|\n",
            "|000Silenced|Be Mine! (Ballad ...|          Robyn|            Be Mine!|            Yes|\n",
            "|000Silenced|            Acapella|          Kelis|            Acapella|            Yes|\n",
            "|000Silenced|   I'm Not Invisible|      The Tease|   I'm Not Invisible|            Yes|\n",
            "|000Silenced|Bounce (Feat NORE...|       MSTRKRFT|         Fist of God|            Yes|\n",
            "|000Silenced|Don't Stop The Mu...|        Rihanna|Addicted 2 Bassli...|            Yes|\n",
            "|000Silenced|               ObZen|      Meshuggah|               ObZen|            Yes|\n",
            "|000Silenced|   Yama's Messengers|         Gojira|The Way of All Flesh|            Yes|\n",
            "|000Silenced|On the Brink of E...|   Napalm Death|Time Waits For No...|            Yes|\n",
            "|000Silenced|On the Brink of E...|   Napalm Death|Time Waits For No...|            Yes|\n",
            "|000Silenced|        In Deference|   Napalm Death|      Smear Campaign|            Yes|\n",
            "|000Silenced|      Post(?)organic|    Decapitated|Organic Hallucinosis|            Yes|\n",
            "|000Silenced|        Mind Feeders|   Dom & Roland| No Strings Attached|            Yes|\n",
            "|000Silenced|Necrosadistic War...|Cannibal Corpse|                Kill|            Yes|\n",
            "|000Silenced|     Dance All Night|   Dom & Roland|          Chronology|            Yes|\n",
            "|000Silenced|          Late Night|   Dom & Roland|          Chronology|            Yes|\n",
            "|000Silenced|          Freak Seen|   Dom & Roland|          Chronology|            Yes|\n",
            "|000Silenced|Paradrenasite (Hi...|   Dom & Roland|          Chronology|            Yes|\n",
            "|000Silenced|               Rhino|   Dom & Roland|          Chronology|            Yes|\n",
            "+-----------+--------------------+---------------+--------------------+---------------+\n",
            "only showing top 20 rows\n",
            "\n"
          ]
        }
      ]
    },
    {
      "cell_type": "code",
      "source": [],
      "metadata": {
        "id": "t2AMrTMf50fY"
      },
      "execution_count": null,
      "outputs": []
    },
    {
      "cell_type": "markdown",
      "source": [
        "# 2. Exploring Functions"
      ],
      "metadata": {
        "id": "3Ebp2eRo51Aw"
      }
    },
    {
      "cell_type": "code",
      "source": [
        "#create df\n",
        "data = [(\"Alice\", 25, 1500 ,\"Dept A\"), (\"Bob\", 30, 2000,\"Dept B\"), (\"Charlie\", 35, 1800,\"Dept A\")]\n",
        "df = spark.createDataFrame(data, [\"Name\", \"Age\",\"Salary\", \"Dept\"])\n",
        "df.show()"
      ],
      "metadata": {
        "colab": {
          "base_uri": "https://localhost:8080/"
        },
        "id": "oXtp-CxNvY5B",
        "outputId": "b4a17229-0339-44ea-ae1b-f605f426bf2b"
      },
      "execution_count": 95,
      "outputs": [
        {
          "output_type": "stream",
          "name": "stdout",
          "text": [
            "+-------+---+------+------+\n",
            "|   Name|Age|Salary|  Dept|\n",
            "+-------+---+------+------+\n",
            "|  Alice| 25|  1500|Dept A|\n",
            "|    Bob| 30|  2000|Dept B|\n",
            "|Charlie| 35|  1800|Dept A|\n",
            "+-------+---+------+------+\n",
            "\n"
          ]
        }
      ]
    },
    {
      "cell_type": "code",
      "source": [
        "#Rollup for avg age\n",
        "roll_up_df = df.rollup(\"Dept\").avg(\"Age\")\n",
        "roll_up_df.show()"
      ],
      "metadata": {
        "colab": {
          "base_uri": "https://localhost:8080/"
        },
        "id": "DU1DX0--sqs9",
        "outputId": "e758ccec-aa60-4274-adf0-007a8f699815"
      },
      "execution_count": 100,
      "outputs": [
        {
          "output_type": "stream",
          "name": "stdout",
          "text": [
            "+------+--------+\n",
            "|  Dept|avg(Age)|\n",
            "+------+--------+\n",
            "|  NULL|    30.0|\n",
            "|Dept A|    30.0|\n",
            "|Dept B|    30.0|\n",
            "+------+--------+\n",
            "\n"
          ]
        }
      ]
    },
    {
      "cell_type": "code",
      "source": [
        "data2 = [(\"Amanda\", 25, 2500, \"Dept A\"), (\"Bianca\", 30, 3000,\"Dept B\"), (\"Chuck\", 35, 2800,\"Dept A\")]\n",
        "col_list=[\"Name\", \"Age\",\"Salary\", \"Dept\"]\n",
        "df2 = spark.createDataFrame(data2, col_list)\n",
        "df2.show()"
      ],
      "metadata": {
        "colab": {
          "base_uri": "https://localhost:8080/"
        },
        "id": "-MFAWub0rhHL",
        "outputId": "bbdccb9a-a739-4e03-c481-7c8c37136e50"
      },
      "execution_count": 96,
      "outputs": [
        {
          "output_type": "stream",
          "name": "stdout",
          "text": [
            "+------+---+------+------+\n",
            "|  Name|Age|Salary|  Dept|\n",
            "+------+---+------+------+\n",
            "|Amanda| 25|  2500|Dept A|\n",
            "|Bianca| 30|  3000|Dept B|\n",
            "| Chuck| 35|  2800|Dept A|\n",
            "+------+---+------+------+\n",
            "\n"
          ]
        }
      ]
    },
    {
      "cell_type": "code",
      "source": [
        "broadcast_df = df.union(df2)\n",
        "broadcast_df.show()"
      ],
      "metadata": {
        "colab": {
          "base_uri": "https://localhost:8080/"
        },
        "id": "WXUIB3q7sENL",
        "outputId": "004416b9-fb17-495a-841d-a702006cde01"
      },
      "execution_count": 97,
      "outputs": [
        {
          "output_type": "stream",
          "name": "stdout",
          "text": [
            "+-------+---+------+------+\n",
            "|   Name|Age|Salary|  Dept|\n",
            "+-------+---+------+------+\n",
            "|  Alice| 25|  1500|Dept A|\n",
            "|    Bob| 30|  2000|Dept B|\n",
            "|Charlie| 35|  1800|Dept A|\n",
            "| Amanda| 25|  2500|Dept A|\n",
            "| Bianca| 30|  3000|Dept B|\n",
            "|  Chuck| 35|  2800|Dept A|\n",
            "+-------+---+------+------+\n",
            "\n"
          ]
        }
      ]
    },
    {
      "cell_type": "code",
      "source": [
        "broadcast_s=broadcast(broadcast_df)\n",
        "broadcast_s.show()"
      ],
      "metadata": {
        "colab": {
          "base_uri": "https://localhost:8080/"
        },
        "id": "nyl4orMGxzNY",
        "outputId": "a090efc8-323d-4fa0-af20-7916f0399bd4"
      },
      "execution_count": 110,
      "outputs": [
        {
          "output_type": "stream",
          "name": "stdout",
          "text": [
            "+-------+---+------+------+\n",
            "|   Name|Age|Salary|  Dept|\n",
            "+-------+---+------+------+\n",
            "|  Alice| 25|  1500|Dept A|\n",
            "|    Bob| 30|  2000|Dept B|\n",
            "|Charlie| 35|  1800|Dept A|\n",
            "| Amanda| 25|  2500|Dept A|\n",
            "| Bianca| 30|  3000|Dept B|\n",
            "|  Chuck| 35|  2800|Dept A|\n",
            "+-------+---+------+------+\n",
            "\n"
          ]
        }
      ]
    },
    {
      "cell_type": "code",
      "source": [
        "pivot_df = broadcast_df.groupBy(\"Dept\").pivot(\"Name\").sum(\"Salary\")\n",
        "pivot_df.show()"
      ],
      "metadata": {
        "colab": {
          "base_uri": "https://localhost:8080/"
        },
        "id": "jTqyRTl13Uip",
        "outputId": "5c9bbdfd-d1a1-4c72-c8c3-b322ff74ec16"
      },
      "execution_count": 115,
      "outputs": [
        {
          "output_type": "stream",
          "name": "stdout",
          "text": [
            "+------+-----+------+------+----+-------+-----+\n",
            "|  Dept|Alice|Amanda|Bianca| Bob|Charlie|Chuck|\n",
            "+------+-----+------+------+----+-------+-----+\n",
            "|Dept B| NULL|  NULL|  3000|2000|   NULL| NULL|\n",
            "|Dept A| 1500|  2500|  NULL|NULL|   1800| 2800|\n",
            "+------+-----+------+------+----+-------+-----+\n",
            "\n"
          ]
        }
      ]
    },
    {
      "cell_type": "code",
      "source": [
        "repartition_df = broadcast_s.repartition(2)\n",
        "repartition_df.show()"
      ],
      "metadata": {
        "colab": {
          "base_uri": "https://localhost:8080/"
        },
        "id": "7bZxwnx93qIy",
        "outputId": "8762505c-cefa-40d0-c1e8-4a49111d37fd"
      },
      "execution_count": 117,
      "outputs": [
        {
          "output_type": "stream",
          "name": "stdout",
          "text": [
            "+-------+---+------+------+\n",
            "|   Name|Age|Salary|  Dept|\n",
            "+-------+---+------+------+\n",
            "|Charlie| 35|  1800|Dept A|\n",
            "| Amanda| 25|  2500|Dept A|\n",
            "|  Chuck| 35|  2800|Dept A|\n",
            "|  Alice| 25|  1500|Dept A|\n",
            "|    Bob| 30|  2000|Dept B|\n",
            "| Bianca| 30|  3000|Dept B|\n",
            "+-------+---+------+------+\n",
            "\n"
          ]
        }
      ]
    },
    {
      "cell_type": "code",
      "source": [
        "repartition_df=repartition_df.sortWithinPartitions(\"Dept\")\n",
        "repartition_df.show()"
      ],
      "metadata": {
        "colab": {
          "base_uri": "https://localhost:8080/"
        },
        "id": "4855v3GP39Kj",
        "outputId": "2c45ba93-baa9-449d-f9fc-b150467f0f01"
      },
      "execution_count": 118,
      "outputs": [
        {
          "output_type": "stream",
          "name": "stdout",
          "text": [
            "+-------+---+------+------+\n",
            "|   Name|Age|Salary|  Dept|\n",
            "+-------+---+------+------+\n",
            "|Charlie| 35|  1800|Dept A|\n",
            "| Amanda| 25|  2500|Dept A|\n",
            "|  Chuck| 35|  2800|Dept A|\n",
            "|  Alice| 25|  1500|Dept A|\n",
            "|    Bob| 30|  2000|Dept B|\n",
            "| Bianca| 30|  3000|Dept B|\n",
            "+-------+---+------+------+\n",
            "\n"
          ]
        }
      ]
    },
    {
      "cell_type": "code",
      "source": [
        "df_a_alias = df.alias(\"df_a\")\n",
        "df_b_alias = df2.alias(\"df_b\")\n",
        "df_a_alias.show()\n",
        "df_b_alias.show()"
      ],
      "metadata": {
        "colab": {
          "base_uri": "https://localhost:8080/"
        },
        "id": "OPV-oJVJsUw2",
        "outputId": "59cf7d1d-3cd1-4b6b-a1ca-9d496fb6a70d"
      },
      "execution_count": 99,
      "outputs": [
        {
          "output_type": "stream",
          "name": "stdout",
          "text": [
            "+-------+---+------+------+\n",
            "|   Name|Age|Salary|  Dept|\n",
            "+-------+---+------+------+\n",
            "|  Alice| 25|  1500|Dept A|\n",
            "|    Bob| 30|  2000|Dept B|\n",
            "|Charlie| 35|  1800|Dept A|\n",
            "+-------+---+------+------+\n",
            "\n",
            "+------+---+------+------+\n",
            "|  Name|Age|Salary|  Dept|\n",
            "+------+---+------+------+\n",
            "|Amanda| 25|  2500|Dept A|\n",
            "|Bianca| 30|  3000|Dept B|\n",
            "| Chuck| 35|  2800|Dept A|\n",
            "+------+---+------+------+\n",
            "\n"
          ]
        }
      ]
    },
    {
      "cell_type": "code",
      "source": [
        "#Rollup for sum salary\n",
        "roll_up_df = df.rollup(\"Dept\",\"Name\").sum(\"Salary\")\n",
        "roll_up_df.orderBy(\"Dept\",\"Name\").show()"
      ],
      "metadata": {
        "colab": {
          "base_uri": "https://localhost:8080/"
        },
        "id": "Q4uh5GzRtip7",
        "outputId": "b9061301-5787-449c-f2f2-739b776e2491"
      },
      "execution_count": 112,
      "outputs": [
        {
          "output_type": "stream",
          "name": "stdout",
          "text": [
            "+------+-------+-----------+\n",
            "|  Dept|   Name|sum(Salary)|\n",
            "+------+-------+-----------+\n",
            "|  NULL|   NULL|       5300|\n",
            "|Dept A|   NULL|       3300|\n",
            "|Dept A|  Alice|       1500|\n",
            "|Dept A|Charlie|       1800|\n",
            "|Dept B|   NULL|       2000|\n",
            "|Dept B|    Bob|       2000|\n",
            "+------+-------+-----------+\n",
            "\n"
          ]
        }
      ]
    },
    {
      "cell_type": "code",
      "source": [
        "# cube aggregation\n",
        "cube_df = df.cube(\"Dept\",\"Name\").sum(\"Salary\")\n",
        "cube_df.orderBy(\"Dept\",\"Name\").show()"
      ],
      "metadata": {
        "colab": {
          "base_uri": "https://localhost:8080/"
        },
        "id": "Fn7YZv3S0reM",
        "outputId": "2081a35b-64b0-4d59-8264-4c16ca6f37ed"
      },
      "execution_count": 114,
      "outputs": [
        {
          "output_type": "stream",
          "name": "stdout",
          "text": [
            "+------+-------+-----------+\n",
            "|  Dept|   Name|sum(Salary)|\n",
            "+------+-------+-----------+\n",
            "|  NULL|   NULL|       5300|\n",
            "|  NULL|  Alice|       1500|\n",
            "|  NULL|    Bob|       2000|\n",
            "|  NULL|Charlie|       1800|\n",
            "|Dept A|   NULL|       3300|\n",
            "|Dept A|  Alice|       1500|\n",
            "|Dept A|Charlie|       1800|\n",
            "|Dept B|   NULL|       2000|\n",
            "|Dept B|    Bob|       2000|\n",
            "+------+-------+-----------+\n",
            "\n"
          ]
        }
      ]
    },
    {
      "cell_type": "code",
      "source": [
        "# cube aggregation\n",
        "cube_df = df.cube(\"Dept\",\"Name\").avg(\"Age\")\n",
        "cube_df.orderBy(\"Dept\",\"Name\").show()"
      ],
      "metadata": {
        "colab": {
          "base_uri": "https://localhost:8080/"
        },
        "id": "98deRx8_vsTZ",
        "outputId": "8eb99be3-f556-4963-f67e-7dd25d3239bf"
      },
      "execution_count": 113,
      "outputs": [
        {
          "output_type": "stream",
          "name": "stdout",
          "text": [
            "+------+-------+--------+\n",
            "|  Dept|   Name|avg(Age)|\n",
            "+------+-------+--------+\n",
            "|  NULL|   NULL|    30.0|\n",
            "|  NULL|  Alice|    25.0|\n",
            "|  NULL|    Bob|    30.0|\n",
            "|  NULL|Charlie|    35.0|\n",
            "|Dept A|   NULL|    30.0|\n",
            "|Dept A|  Alice|    25.0|\n",
            "|Dept A|Charlie|    35.0|\n",
            "|Dept B|   NULL|    30.0|\n",
            "|Dept B|    Bob|    30.0|\n",
            "+------+-------+--------+\n",
            "\n"
          ]
        }
      ]
    },
    {
      "cell_type": "code",
      "source": [
        "#create temporary view\n",
        "df.createOrReplaceTempView(\"people_v\")\n"
      ],
      "metadata": {
        "id": "qOHpHlu3p45Y"
      },
      "execution_count": 103,
      "outputs": []
    },
    {
      "cell_type": "code",
      "source": [
        "# SQL in native form\n",
        "result = spark.sql(\"SELECT * FROM people_v WHERE Age > 30\")\n",
        "result.show()"
      ],
      "metadata": {
        "colab": {
          "base_uri": "https://localhost:8080/"
        },
        "id": "qDBP4umYqQ1w",
        "outputId": "0475d873-cde9-4df2-e32f-371ed9193442"
      },
      "execution_count": 104,
      "outputs": [
        {
          "output_type": "stream",
          "name": "stdout",
          "text": [
            "+-------+---+------+------+\n",
            "|   Name|Age|Salary|  Dept|\n",
            "+-------+---+------+------+\n",
            "|Charlie| 35|  1800|Dept A|\n",
            "+-------+---+------+------+\n",
            "\n"
          ]
        }
      ]
    },
    {
      "cell_type": "code",
      "source": [
        "df.describe().show()"
      ],
      "metadata": {
        "colab": {
          "base_uri": "https://localhost:8080/"
        },
        "id": "V7_TxABPqa7M",
        "outputId": "9c289db1-2d50-418a-957a-f3141dbb151e"
      },
      "execution_count": 105,
      "outputs": [
        {
          "output_type": "stream",
          "name": "stdout",
          "text": [
            "+-------+-------+----+------------------+------+\n",
            "|summary|   Name| Age|            Salary|  Dept|\n",
            "+-------+-------+----+------------------+------+\n",
            "|  count|      3|   3|                 3|     3|\n",
            "|   mean|   NULL|30.0|1766.6666666666667|  NULL|\n",
            "| stddev|   NULL| 5.0|251.66114784235833|  NULL|\n",
            "|    min|  Alice|  25|              1500|Dept A|\n",
            "|    max|Charlie|  35|              2000|Dept B|\n",
            "+-------+-------+----+------------------+------+\n",
            "\n"
          ]
        }
      ]
    },
    {
      "cell_type": "code",
      "source": [
        "df.dtypes"
      ],
      "metadata": {
        "colab": {
          "base_uri": "https://localhost:8080/"
        },
        "id": "cMo2KROIqhDH",
        "outputId": "ca893ff0-9157-4fbf-fad9-7939c16cd9b2"
      },
      "execution_count": 106,
      "outputs": [
        {
          "output_type": "execute_result",
          "data": {
            "text/plain": [
              "[('Name', 'string'),\n",
              " ('Age', 'bigint'),\n",
              " ('Salary', 'bigint'),\n",
              " ('Dept', 'string')]"
            ]
          },
          "metadata": {},
          "execution_count": 106
        }
      ]
    },
    {
      "cell_type": "code",
      "source": [
        "filtered_people=df.filter((df.Age>30) | (df.Name!=\"Bob\"))\n",
        "filtered_people.show()"
      ],
      "metadata": {
        "colab": {
          "base_uri": "https://localhost:8080/"
        },
        "id": "goVYFUETqmwL",
        "outputId": "f79997da-66fc-4172-f854-d4de241b543b"
      },
      "execution_count": 107,
      "outputs": [
        {
          "output_type": "stream",
          "name": "stdout",
          "text": [
            "+-------+---+------+------+\n",
            "|   Name|Age|Salary|  Dept|\n",
            "+-------+---+------+------+\n",
            "|  Alice| 25|  1500|Dept A|\n",
            "|Charlie| 35|  1800|Dept A|\n",
            "+-------+---+------+------+\n",
            "\n"
          ]
        }
      ]
    },
    {
      "cell_type": "code",
      "source": [],
      "metadata": {
        "id": "brIG1sCy5-cH"
      },
      "execution_count": null,
      "outputs": []
    },
    {
      "cell_type": "markdown",
      "source": [
        "#3. Applying different queries to dataset to extract useful Information"
      ],
      "metadata": {
        "id": "TsY4zUo_5-ru"
      }
    },
    {
      "cell_type": "code",
      "source": [
        "# considering a new df\n",
        "q0 = listening_df.select(\"artist\",\"track\")"
      ],
      "metadata": {
        "id": "Gxu2mf3_D392"
      },
      "execution_count": 12,
      "outputs": []
    },
    {
      "cell_type": "code",
      "source": [
        "# QUERYING DATA\n",
        "# Query 1 - show all records in the listening data where the artist was \"Rihanna\"\n",
        "\n",
        "q1 = listening_df \\\n",
        "    .select('*') \\\n",
        "    .filter(listening_df.artist == \"Rihanna\")\n",
        "q1.show()"
      ],
      "metadata": {
        "colab": {
          "base_uri": "https://localhost:8080/"
        },
        "id": "dnP2CG1NEI2_",
        "outputId": "56444c3d-57a3-4c99-8053-adcc4ef76d75"
      },
      "execution_count": 13,
      "outputs": [
        {
          "output_type": "stream",
          "name": "stdout",
          "text": [
            "+-----------+--------------------+-------+--------------------+\n",
            "|    user_id|               track| artist|               album|\n",
            "+-----------+--------------------+-------+--------------------+\n",
            "|000Silenced|Don't Stop The Mu...|Rihanna|Addicted 2 Bassli...|\n",
            "|000Silenced|           Disturbia|Rihanna|Good Girl Gone Ba...|\n",
            "|00williamsl|   Hatin On The Club|Rihanna|              Random|\n",
            "|00williamsl|   Hatin On The Club|Rihanna|              Random|\n",
            "|00williamsl|         Complicated|Rihanna|                Loud|\n",
            "|00williamsl|What's My Name (f...|Rihanna|                Loud|\n",
            "|00williamsl|Kanye West feat R...|Rihanna|                Loud|\n",
            "|    0502008|Only Girl (In the...|Rihanna|                Loud|\n",
            "|      0rdos|Pon De Replay (Re...|Rihanna|    Music of the Sun|\n",
            "|      0rdos|          Now I Know|Rihanna|    Music of the Sun|\n",
            "|      0rdos|There's a Thug in...|Rihanna|    Music of the Sun|\n",
            "|      0rdos|                Rush|Rihanna|    Music of the Sun|\n",
            "|      0rdos|              Let Me|Rihanna|    Music of the Sun|\n",
            "|      0rdos|    Music of the Sun|Rihanna|    Music of the Sun|\n",
            "|      0rdos|     Willing to Wait|Rihanna|    Music of the Sun|\n",
            "|      0rdos|       The Last Time|Rihanna|    Music of the Sun|\n",
            "|      0rdos|If It's Lovin' Th...|Rihanna|    Music of the Sun|\n",
            "|      0rdos|     Here I Go Again|Rihanna|    Music of the Sun|\n",
            "|      0rdos|       Pon de Replay|Rihanna|    Music of the Sun|\n",
            "|      0rdos|                 Cry|Rihanna|  Good Girl Gone Bad|\n",
            "+-----------+--------------------+-------+--------------------+\n",
            "only showing top 20 rows\n",
            "\n"
          ]
        }
      ]
    },
    {
      "cell_type": "code",
      "source": [
        "# Query 2 - show Users that listened to Rihanna\n",
        "q2 = listening_df \\\n",
        "    .select('user_id') \\\n",
        "    .filter(listening_df.artist == \"Rihanna\")\n",
        "q2.show()"
      ],
      "metadata": {
        "colab": {
          "base_uri": "https://localhost:8080/"
        },
        "id": "v2C0Ec-fFCQC",
        "outputId": "ddb38656-5614-47b6-9abd-8e327099f52e"
      },
      "execution_count": 14,
      "outputs": [
        {
          "output_type": "stream",
          "name": "stdout",
          "text": [
            "+-----------+\n",
            "|    user_id|\n",
            "+-----------+\n",
            "|000Silenced|\n",
            "|000Silenced|\n",
            "|00williamsl|\n",
            "|00williamsl|\n",
            "|00williamsl|\n",
            "|00williamsl|\n",
            "|00williamsl|\n",
            "|    0502008|\n",
            "|      0rdos|\n",
            "|      0rdos|\n",
            "|      0rdos|\n",
            "|      0rdos|\n",
            "|      0rdos|\n",
            "|      0rdos|\n",
            "|      0rdos|\n",
            "|      0rdos|\n",
            "|      0rdos|\n",
            "|      0rdos|\n",
            "|      0rdos|\n",
            "|      0rdos|\n",
            "+-----------+\n",
            "only showing top 20 rows\n",
            "\n"
          ]
        }
      ]
    },
    {
      "cell_type": "code",
      "source": [
        "# Query 3 - show number of times Users listened to Rihanna\n",
        "q3 = listening_df \\\n",
        "    .select('user_id') \\\n",
        "    .filter(listening_df.artist == \"Rihanna\") \\\n",
        "    .groupBy('user_id') \\\n",
        "    .agg(count('user_id').alias('count'))\n",
        "q3.show()"
      ],
      "metadata": {
        "colab": {
          "base_uri": "https://localhost:8080/"
        },
        "id": "wSu-htPnFpw5",
        "outputId": "d3d4b397-b1f2-4e49-9b51-5b56e6bd30e3"
      },
      "execution_count": 15,
      "outputs": [
        {
          "output_type": "stream",
          "name": "stdout",
          "text": [
            "+---------------+-----+\n",
            "|        user_id|count|\n",
            "+---------------+-----+\n",
            "|         BolaJA|    3|\n",
            "|    abbyquinlan|    1|\n",
            "|    abiprincess|    1|\n",
            "|    AndrewTerry|    2|\n",
            "|      aaronspud|    1|\n",
            "|       adamnmcc|    1|\n",
            "|      agentgypo|    1|\n",
            "|      Bauldrick|    1|\n",
            "|        boardy2|    3|\n",
            "|booksfromboxes_|    1|\n",
            "|AshvinaShegobin|    2|\n",
            "|       alexfack|    1|\n",
            "|    aliceoddity|    4|\n",
            "|    annie-bella|    6|\n",
            "|    backstabbed|    2|\n",
            "|    badboydanny|    2|\n",
            "|  Bambi-strokes|    1|\n",
            "|         bekari|    1|\n",
            "|AbigailVictoria|    1|\n",
            "| abovethewaves_|    1|\n",
            "+---------------+-----+\n",
            "only showing top 20 rows\n",
            "\n"
          ]
        }
      ]
    },
    {
      "cell_type": "code",
      "source": [
        "# Query 4 - show top 10 users based on Count of number of times they listened to Rihanna\n",
        "q4 = listening_df \\\n",
        "    .select('user_id') \\\n",
        "    .filter(listening_df.artist == \"Rihanna\") \\\n",
        "    .groupBy('user_id') \\\n",
        "    .agg(count('user_id').alias('count')) \\\n",
        "    .orderBy(desc('count')) \\\n",
        "    .limit(10)\n",
        "q4.show()"
      ],
      "metadata": {
        "colab": {
          "base_uri": "https://localhost:8080/"
        },
        "id": "gmDDtc1iFT_P",
        "outputId": "196a38c2-c0fb-4856-cd71-ca6530941fde"
      },
      "execution_count": 16,
      "outputs": [
        {
          "output_type": "stream",
          "name": "stdout",
          "text": [
            "+---------------+-----+\n",
            "|        user_id|count|\n",
            "+---------------+-----+\n",
            "|        thiessu|  179|\n",
            "|    eyessetkyle|  166|\n",
            "|           adxx|  164|\n",
            "|missnumberthree|  156|\n",
            "|helloiamnatalie|  128|\n",
            "|          nmjnb|  124|\n",
            "|        AndyyyA|  123|\n",
            "|     BIGBANG186|  121|\n",
            "|     mixedvibes|  120|\n",
            "|       AndyKitt|  115|\n",
            "+---------------+-----+\n",
            "\n"
          ]
        }
      ]
    },
    {
      "cell_type": "code",
      "source": [
        "# Query 5 - show top 10 most listened tracks considering 'artist','track'\n",
        "q5 = listening_df \\\n",
        "    .select('artist','track') \\\n",
        "    .groupBy('artist','track') \\\n",
        "    .agg(count('*').alias('count')) \\\n",
        "    .orderBy(desc('count')) \\\n",
        "    .limit(10)\n",
        "q5.show()"
      ],
      "metadata": {
        "colab": {
          "base_uri": "https://localhost:8080/"
        },
        "id": "dVQ6XjHrGt63",
        "outputId": "bae77d45-0fc6-46ee-e007-5ea137eb0b0d"
      },
      "execution_count": 17,
      "outputs": [
        {
          "output_type": "stream",
          "name": "stdout",
          "text": [
            "+--------------+----------------+-----+\n",
            "|        artist|           track|count|\n",
            "+--------------+----------------+-----+\n",
            "| Justin Bieber|           Sorry| 3381|\n",
            "|Arctic Monkeys|Do I Wanna Know?| 2865|\n",
            "|      Bon Iver|     Skinny Love| 2836|\n",
            "|          Zayn|      PILLOWTALK| 2701|\n",
            "|   The Killers|   Mr Brightside| 2690|\n",
            "|       Rihanna|            Work| 2646|\n",
            "|      Bastille|         Pompeii| 2606|\n",
            "|Mumford & Sons| Little Lion Man| 2520|\n",
            "|Mumford & Sons|        The Cave| 2485|\n",
            "| Justin Bieber|   Love Yourself| 2481|\n",
            "+--------------+----------------+-----+\n",
            "\n"
          ]
        }
      ]
    },
    {
      "cell_type": "code",
      "source": [
        "# Query 6 - show top 10 tracks of Rihanna\n",
        "q6 = listening_df \\\n",
        "    .select('artist','track') \\\n",
        "    .filter(listening_df.artist==\"Rihanna\") \\\n",
        "    .groupBy('artist','track') \\\n",
        "    .agg(count('*').alias('count')) \\\n",
        "    .orderBy(desc('count')).limit(10)\n",
        "q6.show()"
      ],
      "metadata": {
        "colab": {
          "base_uri": "https://localhost:8080/"
        },
        "id": "AqcTr3NbI9Mj",
        "outputId": "3d1fc3be-9072-41b1-b300-ec241e832dba"
      },
      "execution_count": 18,
      "outputs": [
        {
          "output_type": "stream",
          "name": "stdout",
          "text": [
            "+-------+--------------------+-----+\n",
            "| artist|               track|count|\n",
            "+-------+--------------------+-----+\n",
            "|Rihanna|                Work| 2646|\n",
            "|Rihanna|Only Girl (In the...| 1749|\n",
            "|Rihanna|We Found Love (fe...| 1575|\n",
            "|Rihanna|                 S&M| 1307|\n",
            "|Rihanna|            Rude Boy| 1303|\n",
            "|Rihanna|            Diamonds| 1224|\n",
            "|Rihanna|      Kiss it Better|  945|\n",
            "|Rihanna| Where Have You Been|  844|\n",
            "|Rihanna|Cheers (Drink to ...|  697|\n",
            "|Rihanna|           Needed Me|  679|\n",
            "+-------+--------------------+-----+\n",
            "\n"
          ]
        }
      ]
    },
    {
      "cell_type": "code",
      "source": [
        "# Query 7 - show top 10 tracks\n",
        "q7 = listening_df \\\n",
        "    .select('artist','track') \\\n",
        "    .groupBy('artist','track') \\\n",
        "    .agg(count('*').alias('count')) \\\n",
        "    .orderBy(desc('count')) \\\n",
        "    .limit(10)\n",
        "q7.show()"
      ],
      "metadata": {
        "colab": {
          "base_uri": "https://localhost:8080/"
        },
        "id": "2VZrsLDVJq0M",
        "outputId": "2edf145a-4694-46aa-942d-2fdfd16aca32"
      },
      "execution_count": 19,
      "outputs": [
        {
          "output_type": "stream",
          "name": "stdout",
          "text": [
            "+--------------+----------------+-----+\n",
            "|        artist|           track|count|\n",
            "+--------------+----------------+-----+\n",
            "| Justin Bieber|           Sorry| 3381|\n",
            "|Arctic Monkeys|Do I Wanna Know?| 2865|\n",
            "|      Bon Iver|     Skinny Love| 2836|\n",
            "|          Zayn|      PILLOWTALK| 2701|\n",
            "|   The Killers|   Mr Brightside| 2690|\n",
            "|       Rihanna|            Work| 2646|\n",
            "|      Bastille|         Pompeii| 2606|\n",
            "|Mumford & Sons| Little Lion Man| 2520|\n",
            "|Mumford & Sons|        The Cave| 2485|\n",
            "| Justin Bieber|   Love Yourself| 2481|\n",
            "+--------------+----------------+-----+\n",
            "\n"
          ]
        }
      ]
    },
    {
      "cell_type": "code",
      "source": [
        "# Query 8 - show top 10 albums\n",
        "q8 = listening_df \\\n",
        "    .select('artist','album') \\\n",
        "    .groupBy('artist','album') \\\n",
        "    .agg(count('*').alias('count')) \\\n",
        "    .orderBy(desc('count')) \\\n",
        "    .limit(10)\n",
        "q8.show()"
      ],
      "metadata": {
        "colab": {
          "base_uri": "https://localhost:8080/"
        },
        "id": "qho-LF9tKWBX",
        "outputId": "90d6631b-929c-4f91-aef9-8bd88159c189"
      },
      "execution_count": 20,
      "outputs": [
        {
          "output_type": "stream",
          "name": "stdout",
          "text": [
            "+--------------------+--------------------+-----+\n",
            "|              artist|               album|count|\n",
            "+--------------------+--------------------+-----+\n",
            "|          Kanye West|   The Life Of Pablo|22310|\n",
            "|              The xx|                  xx|14195|\n",
            "|      Arctic Monkeys|                  AM|14090|\n",
            "|               alt-J|     An Awesome Wave|13635|\n",
            "|      Mumford & Sons|        Sigh No More|13543|\n",
            "|      Arctic Monkeys|Whatever People S...|12731|\n",
            "|            Bon Iver|            For Emma|11994|\n",
            "|              Grimes|          Art Angels|11655|\n",
            "|Florence + the Ma...|               Lungs|11362|\n",
            "|               Adele|                  21|11215|\n",
            "+--------------------+--------------------+-----+\n",
            "\n"
          ]
        }
      ]
    },
    {
      "cell_type": "code",
      "source": [
        "# IMPRORTING Genre DATA\n",
        "# genre.csv\n",
        "genrecsv_path = '/content/drive/MyDrive/AnalyticsHub/Projects/Exploring_PySpark/genre.csv'\n",
        "\n",
        "# Check if file exists\n",
        "if not os.path.exists(genrecsv_path):\n",
        "    raise FileNotFoundError(f\"File not found: {genrecsv_path}\")\n",
        "\n",
        "# Load the data\n",
        "genre_df = spark.read.format('csv').option('inferSchema', True).option('header', True).load(genrecsv_path)"
      ],
      "metadata": {
        "id": "bGE-ZGwQKkeh"
      },
      "execution_count": 21,
      "outputs": []
    },
    {
      "cell_type": "code",
      "source": [
        "# EXPLORING genre DATA\n",
        "genre_df.show()\n",
        "# pyspark dataframe is not identical to pandas dataframe"
      ],
      "metadata": {
        "colab": {
          "base_uri": "https://localhost:8080/"
        },
        "id": "ypxoTDfzLFzz",
        "outputId": "f47916d9-8ec6-44ff-9d29-40bb55837e2d"
      },
      "execution_count": 22,
      "outputs": [
        {
          "output_type": "stream",
          "name": "stdout",
          "text": [
            "+--------------------+-----+\n",
            "|              artist|genre|\n",
            "+--------------------+-----+\n",
            "|                Muse| rock|\n",
            "|             Nirvana| rock|\n",
            "|            Bon Jovi| rock|\n",
            "|          The Police| rock|\n",
            "|                Kiss| rock|\n",
            "|       Guns N' Roses| rock|\n",
            "|         Rusted Root| rock|\n",
            "|Katrina and the W...|  pop|\n",
            "|         The Beatles| rock|\n",
            "|        Hall & Oates|  pop|\n",
            "|        Otis Redding| soul|\n",
            "|         Marvin Gaye| soul|\n",
            "|     The Cranberries| rock|\n",
            "|            Survivor| rock|\n",
            "|       Fleetwood Mac|blues|\n",
            "|           Radiohead| rock|\n",
            "|                Toto| rock|\n",
            "|                  U2| rock|\n",
            "|Creedence Clearwa...| rock|\n",
            "|                 REM| rock|\n",
            "+--------------------+-----+\n",
            "only showing top 20 rows\n",
            "\n"
          ]
        }
      ]
    },
    {
      "cell_type": "code",
      "source": [
        "#JOINS\n",
        "# QUERY FOR JOINING the dataframes // RELATING genre to listening records\n",
        "# Using artist\n",
        "data = listening_df.join(genre_df, how='inner', on=['artist'])\n",
        "data.show()"
      ],
      "metadata": {
        "colab": {
          "base_uri": "https://localhost:8080/"
        },
        "id": "DsZyAPbXLWEV",
        "outputId": "cd5c0bee-0fcf-4a88-99c1-39620fb0e7fe"
      },
      "execution_count": 23,
      "outputs": [
        {
          "output_type": "stream",
          "name": "stdout",
          "text": [
            "+------------+-----------+--------------------+--------------------+--------------------+\n",
            "|      artist|    user_id|               track|               album|               genre|\n",
            "+------------+-----------+--------------------+--------------------+--------------------+\n",
            "|    Jessie J|000Silenced|           Price Tag|         Who You Are| Ariana Grande & ...|\n",
            "|    Jessie J|000Silenced|           Price Tag|         Who You Are| Jhene Aiko & Rixton|\n",
            "|    Jessie J|000Silenced|           Price Tag|         Who You Are| Nicki Minaj & Ar...|\n",
            "|    Jessie J|000Silenced|           Price Tag|         Who You Are|                 pop|\n",
            "|    Jessie J|000Silenced|Price Tag (Acoust...|           Price Tag| Ariana Grande & ...|\n",
            "|    Jessie J|000Silenced|Price Tag (Acoust...|           Price Tag| Jhene Aiko & Rixton|\n",
            "|    Jessie J|000Silenced|Price Tag (Acoust...|           Price Tag| Nicki Minaj & Ar...|\n",
            "|    Jessie J|000Silenced|Price Tag (Acoust...|           Price Tag|                 pop|\n",
            "|       Robyn|000Silenced|Be Mine! (Ballad ...|            Be Mine!|                 pop|\n",
            "|       Kelis|000Silenced|            Acapella|            Acapella|                 pop|\n",
            "|   The Tease|000Silenced|   I'm Not Invisible|   I'm Not Invisible|             hip hop|\n",
            "|    MSTRKRFT|000Silenced|Bounce (Feat NORE...|         Fist of God|          electronic|\n",
            "|     Rihanna|000Silenced|Don't Stop The Mu...|Addicted 2 Bassli...|                 SZA|\n",
            "|     Rihanna|000Silenced|Don't Stop The Mu...|Addicted 2 Bassli...| Paul McCartney &...|\n",
            "|     Rihanna|000Silenced|Don't Stop The Mu...|Addicted 2 Bassli...|          Kanye West|\n",
            "|     Rihanna|000Silenced|Don't Stop The Mu...|Addicted 2 Bassli...| Kanye West & Pau...|\n",
            "|     Rihanna|000Silenced|Don't Stop The Mu...|Addicted 2 Bassli...|                 pop|\n",
            "|   Meshuggah|000Silenced|               ObZen|               ObZen|               metal|\n",
            "|      Gojira|000Silenced|   Yama's Messengers|The Way of All Flesh|               metal|\n",
            "|Napalm Death|000Silenced|On the Brink of E...|Time Waits For No...|           grindcore|\n",
            "+------------+-----------+--------------------+--------------------+--------------------+\n",
            "only showing top 20 rows\n",
            "\n"
          ]
        }
      ]
    },
    {
      "cell_type": "code",
      "source": [
        "# Query 9 - show users for 'pop' genre\n",
        "q9 = data \\\n",
        "    .select('user_id') \\\n",
        "    .filter(data.genre==\"pop\") \\\n",
        "    .groupBy('user_id') \\\n",
        "    .agg(count('*').alias('count')) \\\n",
        "    .orderBy(desc('count'))\n",
        "q9.show()"
      ],
      "metadata": {
        "colab": {
          "base_uri": "https://localhost:8080/"
        },
        "id": "s8Y14ZNOMSPQ",
        "outputId": "7e13b80e-f6c3-45e7-e9ca-c21445dfbcba"
      },
      "execution_count": 24,
      "outputs": [
        {
          "output_type": "stream",
          "name": "stdout",
          "text": [
            "+---------------+-----+\n",
            "|        user_id|count|\n",
            "+---------------+-----+\n",
            "|        01Green|  496|\n",
            "|      momousagi|  400|\n",
            "|          mrpsb|  400|\n",
            "|   BlueKnockOut|  378|\n",
            "|    musicboy80s|  376|\n",
            "|  incultojurgis|  374|\n",
            "| ElektricOrchid|  370|\n",
            "|foreign_fanatic|  350|\n",
            "|   Kevin_Soutar|  346|\n",
            "|  landrover2171|  301|\n",
            "|      blessbabe|  286|\n",
            "|        DP_Sage|  274|\n",
            "|  dodoriazarbon|  273|\n",
            "|         emmika|  271|\n",
            "|         emp-ty|  262|\n",
            "|        Jiransu|  244|\n",
            "|          PJPRO|  236|\n",
            "|     CHINDRIEUX|  228|\n",
            "|     BIGBANG186|  227|\n",
            "|       Beastisb|  216|\n",
            "+---------------+-----+\n",
            "only showing top 20 rows\n",
            "\n"
          ]
        }
      ]
    },
    {
      "cell_type": "code",
      "source": [
        "# Query 10 - show top 10 users for 'pop' genre\n",
        "q10 = data \\\n",
        "    .select('user_id') \\\n",
        "    .filter(data.genre==\"pop\") \\\n",
        "    .groupBy('user_id') \\\n",
        "    .agg(count('*').alias('count')) \\\n",
        "    .orderBy(desc('count')) \\\n",
        "    .limit(10)\n",
        "q10.show()"
      ],
      "metadata": {
        "colab": {
          "base_uri": "https://localhost:8080/"
        },
        "id": "PEMNRPCdNWsL",
        "outputId": "98479e16-1185-4272-9d00-128c32350789"
      },
      "execution_count": 25,
      "outputs": [
        {
          "output_type": "stream",
          "name": "stdout",
          "text": [
            "+---------------+-----+\n",
            "|        user_id|count|\n",
            "+---------------+-----+\n",
            "|        01Green|  496|\n",
            "|      momousagi|  400|\n",
            "|          mrpsb|  400|\n",
            "|   BlueKnockOut|  378|\n",
            "|    musicboy80s|  376|\n",
            "|  incultojurgis|  374|\n",
            "| ElektricOrchid|  370|\n",
            "|foreign_fanatic|  350|\n",
            "|   Kevin_Soutar|  346|\n",
            "|  landrover2171|  301|\n",
            "+---------------+-----+\n",
            "\n"
          ]
        }
      ]
    },
    {
      "cell_type": "code",
      "source": [
        "# Query 11 - show top 10 genres\n",
        "q11 = data \\\n",
        "    .select('genre')\\\n",
        "    .groupBy('genre')\\\n",
        "    .agg(count('*').alias('count'))\\\n",
        "    .orderBy(desc('count'))\\\n",
        "    .limit(10)\n",
        "q11.show()"
      ],
      "metadata": {
        "colab": {
          "base_uri": "https://localhost:8080/"
        },
        "id": "qg-3D1ohNuIX",
        "outputId": "e569efb5-903d-4252-a557-00c01fce1af1"
      },
      "execution_count": 26,
      "outputs": [
        {
          "output_type": "stream",
          "name": "stdout",
          "text": [
            "+----------+-------+\n",
            "|     genre|  count|\n",
            "+----------+-------+\n",
            "|      rock|2691934|\n",
            "|       pop|1544747|\n",
            "|electronic| 551509|\n",
            "|   hip hop| 532984|\n",
            "|      folk| 438174|\n",
            "|indie rock| 431439|\n",
            "|      punk| 380915|\n",
            "|       r&b| 344101|\n",
            "|     metal| 208107|\n",
            "|     indie| 206726|\n",
            "+----------+-------+\n",
            "\n"
          ]
        }
      ]
    },
    {
      "cell_type": "code",
      "source": [
        "# Query 12 - show total number of listens by each user across all genres\n",
        "q12 = data\\\n",
        "    .select('user_id', 'genre') \\\n",
        "    .groupBy('user_id') \\\n",
        "    .agg(count('*').alias('count'))\n",
        "q12.show()\n",
        "\n",
        "# This groups the data only by user_id, ignoring the genre column in the grouping.\n",
        "# The output will show the total listen count for each user_id, regardless of the genre."
      ],
      "metadata": {
        "colab": {
          "base_uri": "https://localhost:8080/"
        },
        "id": "eCQkr4eoiem2",
        "outputId": "9962a99a-8d81-4de9-b02b-1005670d2954"
      },
      "execution_count": 27,
      "outputs": [
        {
          "output_type": "stream",
          "name": "stdout",
          "text": [
            "+---------------+-----+\n",
            "|        user_id|count|\n",
            "+---------------+-----+\n",
            "|        247flix|  301|\n",
            "|     A3sahaettr|  111|\n",
            "|       adamappo|  255|\n",
            "|  AdamMcSpaddam|  244|\n",
            "|          afx88|  354|\n",
            "|     alihux4134|  196|\n",
            "|        aliiiee|  194|\n",
            "|allstarcityrock|  281|\n",
            "|        Alukarl|  194|\n",
            "|       Ambalina|  128|\n",
            "|       andrewh1|  222|\n",
            "|        AndyEgg|  167|\n",
            "|   andysquirrel|  207|\n",
            "|angela_williams|  202|\n",
            "| AngerisaGift14|  181|\n",
            "|   angustifolia|  194|\n",
            "|      Anndddyyy|  296|\n",
            "|     artfulcod3|  174|\n",
            "| ashleighgemmap|  187|\n",
            "|      ashmauboy|  226|\n",
            "+---------------+-----+\n",
            "only showing top 20 rows\n",
            "\n"
          ]
        }
      ]
    },
    {
      "cell_type": "code",
      "source": [
        "# Query 13 - show how many times each user has listened to each specific genre\n",
        "q13 = data\\\n",
        "    .select('user_id', 'genre') \\\n",
        "    .groupBy('user_id', 'genre') \\\n",
        "    .agg(count('*').alias('count'))\n",
        "q13.show()\n",
        "\n",
        "# This groups the data by both user_id and genre\n",
        "# The output will show each unique combination of user_id and genre with the count of listens for that genre by that user."
      ],
      "metadata": {
        "colab": {
          "base_uri": "https://localhost:8080/"
        },
        "id": "O0xxhQw4Ve9f",
        "outputId": "f0cc3e37-05c8-4a45-e6d5-f5f3e24e2261"
      },
      "execution_count": 28,
      "outputs": [
        {
          "output_type": "stream",
          "name": "stdout",
          "text": [
            "+---------------+--------------------+-----+\n",
            "|        user_id|               genre|count|\n",
            "+---------------+--------------------+-----+\n",
            "|          _0015|     psychedelic pop|    3|\n",
            "|        01Green|          Maty Noyes|    1|\n",
            "|      01srainey|            Big Sean|    2|\n",
            "|      03swalker|                soul|    4|\n",
            "|        0502008|       Keys N Krates|    2|\n",
            "|       07berobe|national socialis...|   14|\n",
            "|       07berobe|        gothic metal|    8|\n",
            "|          0rdos|              celtic|    1|\n",
            "|     0xenolith0|       drum and bass|    1|\n",
            "|10bobrevolution|         000 Fathers|    4|\n",
            "| 11shadesofgrey|          electronic|    6|\n",
            "| 11shadesofgrey|             baroque|    1|\n",
            "|      1337fatal|                jazz|   14|\n",
            "|        14M5K0T|                jazz|   70|\n",
            "|          16-19| June Carter & Me...|    1|\n",
            "|          16-19| Kanye West & Pau...|    1|\n",
            "|   1888Franklin|               metal|   17|\n",
            "|           1936|       Woody Jackson|    1|\n",
            "|       19nick81|             minimal|   42|\n",
            "|   1Chordwonder| Jenny Lewis & Fr...|    1|\n",
            "+---------------+--------------------+-----+\n",
            "only showing top 20 rows\n",
            "\n"
          ]
        }
      ]
    },
    {
      "cell_type": "code",
      "source": [
        "# Query 14 - show how many times each user has listened to each specific genre order by user_id\n",
        "q14 = data\\\n",
        "    .select('user_id', 'genre') \\\n",
        "    .groupBy('user_id', 'genre') \\\n",
        "    .agg(count('*').alias('count')) \\\n",
        "    .orderBy('user_id')  # asc('user_id') or orderBy(desc('user_id')) :( \"asc\" doesnt work?? unless module imported\n",
        "q14.show()\n",
        "\n",
        "# This orders the data only by user_id in ascending order.\n",
        "#All rows are sorted so that entries for each user_id appear together, but there’s no specific order within each user_id group. The genres for each user will appear in an arbitrary order."
      ],
      "metadata": {
        "colab": {
          "base_uri": "https://localhost:8080/"
        },
        "id": "4EN2JB3Fj626",
        "outputId": "5698fe47-a062-444d-d9f4-bb684897a9c8"
      },
      "execution_count": 50,
      "outputs": [
        {
          "output_type": "stream",
          "name": "stdout",
          "text": [
            "+-------+--------------------+-----+\n",
            "|user_id|               genre|count|\n",
            "+-------+--------------------+-----+\n",
            "| --Seph|               Bjorn|    8|\n",
            "| --Seph| Boston Pops Orch...|    1|\n",
            "| --Seph| brazilian pop music|    1|\n",
            "| --Seph|                 pop|    9|\n",
            "| --Seph| Snoop Dogg & Dev...|    4|\n",
            "| --Seph|          Nils Frahm|    1|\n",
            "| --Seph|        instrumental|    1|\n",
            "| --Seph|               dance|    1|\n",
            "| --Seph|   Vladimir Spivakov|    1|\n",
            "| --Seph|  progressive trance|    1|\n",
            "| --Seph|               samba|    2|\n",
            "| --Seph|          Thom Yorke|    2|\n",
            "| --Seph|             ambient|    6|\n",
            "| --Seph|               Ruben|    4|\n",
            "| --Seph| Sara Mingardo & ...|    1|\n",
            "| --Seph|           classical|   31|\n",
            "| --Seph|             baroque|    1|\n",
            "| --Seph|               indie|    3|\n",
            "| --Seph|     Hilko Schomerus|    1|\n",
            "| --Seph|         heavy metal|    1|\n",
            "+-------+--------------------+-----+\n",
            "only showing top 20 rows\n",
            "\n"
          ]
        }
      ]
    },
    {
      "cell_type": "code",
      "source": [
        "# Query 15 - show the most-listened-to genre first, making it easy to see a user’s listening preferences in order\n",
        "q15 = data\\\n",
        "    .select('user_id', 'genre') \\\n",
        "    .groupBy('user_id', 'genre') \\\n",
        "    .agg(count('*').alias('count')) \\\n",
        "    .orderBy(asc('user_id'), desc('count'))  # First by user_id ascending, then count descending\n",
        "q15.show()\n",
        "# This version orders the data first by user_id (ascending) and then by count (descending) within each user_id group.\n",
        "# Entries for each user_id are grouped together, and within each user group, genres are sorted by count in descending order.\n",
        "# ordered view of each user’s listening habits by genre, useful for displaying or analyzing all listening data by descending order of popularity"
      ],
      "metadata": {
        "colab": {
          "base_uri": "https://localhost:8080/"
        },
        "id": "t0mUZh6MkBi9",
        "outputId": "88b18854-1108-4bbb-c4e8-2c05ee231f81"
      },
      "execution_count": 30,
      "outputs": [
        {
          "output_type": "stream",
          "name": "stdout",
          "text": [
            "+-------+--------------------+-----+\n",
            "|user_id|               genre|count|\n",
            "+-------+--------------------+-----+\n",
            "| --Seph|           classical|   31|\n",
            "| --Seph|                rock|   27|\n",
            "| --Seph|          indie rock|   15|\n",
            "| --Seph|               opera|   12|\n",
            "| --Seph|                folk|   10|\n",
            "| --Seph|                 pop|    9|\n",
            "| --Seph|               Bjorn|    8|\n",
            "| --Seph|             hip hop|    7|\n",
            "| --Seph|             ambient|    6|\n",
            "| --Seph|          electronic|    6|\n",
            "| --Seph|               Ruben|    4|\n",
            "| --Seph| Snoop Dogg & Dev...|    4|\n",
            "| --Seph|              Xzibit|    4|\n",
            "| --Seph| Charis Henry & M...|    4|\n",
            "| --Seph|          snoop dogg|    4|\n",
            "| --Seph|             Hittman|    4|\n",
            "| --Seph|            King Mez|    4|\n",
            "| --Seph|      Kendrick Lamar|    4|\n",
            "| --Seph|          Snoop Dogg|    4|\n",
            "| --Seph|                 RBX|    4|\n",
            "+-------+--------------------+-----+\n",
            "only showing top 20 rows\n",
            "\n"
          ]
        }
      ]
    },
    {
      "cell_type": "code",
      "source": [
        "# Query 16 - show each user’s highest listen count (max_count) and the genre associated with the lexicographically last genre in case of ties\n",
        "#cant use q15\n",
        "q16 = q15 \\\n",
        "    .groupby('user_id')\\\n",
        "    .agg(max(col('count')).alias('max_count'), max(col('genre')).alias('max_genre'))\n",
        "q16.show()\n",
        "# each user’s maximum listen count and genre, but it may return the lexicographically last genre if there’s a tie\n",
        "# may not necessarily correspond to the genre with the max_count because Spark’s max for strings simply returns the lexicographically last genre, not the genre with the max listens.\n",
        "# This can lead to inaccuracies if multiple genres share the max count."
      ],
      "metadata": {
        "colab": {
          "base_uri": "https://localhost:8080/"
        },
        "id": "4yqivGnEe-dI",
        "outputId": "087d9ec8-33b9-45f0-c61e-ccda0dbdb477"
      },
      "execution_count": 31,
      "outputs": [
        {
          "output_type": "stream",
          "name": "stdout",
          "text": [
            "+---------------+---------+------------+\n",
            "|        user_id|max_count|   max_genre|\n",
            "+---------------+---------+------------+\n",
            "|      --Shinn--|      112|thrash metal|\n",
            "|       --ollz--|       47|    trip hop|\n",
            "|     -Amnesiac-|      323|        rock|\n",
            "|         -Bish-|       59|viking metal|\n",
            "|        -Danni-|       45|  soundtrack|\n",
            "|          -DeWp|       82|    trip hop|\n",
            "|      -Faction-|       56|    synthpop|\n",
            "|-February-Star-|       74|        soul|\n",
            "|        -Gemma-|       38|        soul|\n",
            "|   -Gingergirl-|       28|        soul|\n",
            "|        -Hazel-|       14|    twee pop|\n",
            "|        -Heiko-|       43|      techno|\n",
            "|         -Katie|       58|        rock|\n",
            "|      -Krystal-|       87|        rock|\n",
            "|         -Mark-|       37|  space rock|\n",
            "|       -Mullet-|       60|      trance|\n",
            "|          -Robs|       38|   uk garage|\n",
            "| -SleepingStar-|       57| pagan metal|\n",
            "|      -Stifler-|      144|        rock|\n",
            "|  -Toxic-Waste-|       55|      trance|\n",
            "+---------------+---------+------------+\n",
            "only showing top 20 rows\n",
            "\n"
          ]
        }
      ]
    },
    {
      "cell_type": "code",
      "source": [
        "# Query 17 - show each users maximum listened genres (with count)\n",
        "q17 = q15 \\\n",
        "    .groupby('user_id') \\\n",
        "    .agg(max(struct(col('count'), col('genre'))).alias('max_genre'))\n",
        "q17.show()\n",
        "# ensure the genre-count pairing is preserved. Use this for precise results when you need the correct genre associated with the maximum count."
      ],
      "metadata": {
        "colab": {
          "base_uri": "https://localhost:8080/"
        },
        "id": "2n6Wl2DEZkdI",
        "outputId": "e5940988-67f4-4d03-a34a-e32942fb9578"
      },
      "execution_count": 34,
      "outputs": [
        {
          "output_type": "stream",
          "name": "stdout",
          "text": [
            "+---------------+-----------------+\n",
            "|        user_id|        max_genre|\n",
            "+---------------+-----------------+\n",
            "|      --Shinn--|      {112, rock}|\n",
            "|       --ollz--|       {47, rock}|\n",
            "|     -Amnesiac-|     {323, metal}|\n",
            "|         -Bish-|       {59, rock}|\n",
            "|        -Danni-|       {45, rock}|\n",
            "|          -DeWp|    {82, hip hop}|\n",
            "|      -Faction-|       {56, rock}|\n",
            "|-February-Star-|       {74, rock}|\n",
            "|        -Gemma-|{38, british pop}|\n",
            "|   -Gingergirl-|        {28, pop}|\n",
            "|        -Hazel-|   {14, synthpop}|\n",
            "|        -Heiko-| {43, electronic}|\n",
            "|         -Katie|      {58, lo-fi}|\n",
            "|      -Krystal-|       {87, rock}|\n",
            "|         -Mark-| {37, indie rock}|\n",
            "|       -Mullet-|  {60, metalcore}|\n",
            "|          -Robs|       {38, rock}|\n",
            "| -SleepingStar-|{57, black metal}|\n",
            "|      -Stifler-|      {144, rock}|\n",
            "|  -Toxic-Waste-|  {55, aggrotech}|\n",
            "+---------------+-----------------+\n",
            "only showing top 20 rows\n",
            "\n"
          ]
        }
      ]
    },
    {
      "cell_type": "code",
      "source": [
        "# Query 18 - show only the genre with the highest listens for each user\n",
        "q18 = q15 \\\n",
        "    .groupby('user_id') \\\n",
        "    .agg(max(struct(col('count'), col('genre'))).alias('max_genre')) \\\n",
        "    .select(col('user_id'),col('max_genre.genre'))\n",
        "q18.show()"
      ],
      "metadata": {
        "colab": {
          "base_uri": "https://localhost:8080/"
        },
        "id": "TgGERyirdxsN",
        "outputId": "7a25f5c1-b57e-4ca6-b474-70e64a85d269"
      },
      "execution_count": 38,
      "outputs": [
        {
          "output_type": "stream",
          "name": "stdout",
          "text": [
            "+---------------+-----------+\n",
            "|        user_id|      genre|\n",
            "+---------------+-----------+\n",
            "|      --Shinn--|       rock|\n",
            "|       --ollz--|       rock|\n",
            "|     -Amnesiac-|      metal|\n",
            "|         -Bish-|       rock|\n",
            "|        -Danni-|       rock|\n",
            "|          -DeWp|    hip hop|\n",
            "|      -Faction-|       rock|\n",
            "|-February-Star-|       rock|\n",
            "|        -Gemma-|british pop|\n",
            "|   -Gingergirl-|        pop|\n",
            "|        -Hazel-|   synthpop|\n",
            "|        -Heiko-| electronic|\n",
            "|         -Katie|      lo-fi|\n",
            "|      -Krystal-|       rock|\n",
            "|         -Mark-| indie rock|\n",
            "|       -Mullet-|  metalcore|\n",
            "|          -Robs|       rock|\n",
            "| -SleepingStar-|black metal|\n",
            "|      -Stifler-|       rock|\n",
            "|  -Toxic-Waste-|  aggrotech|\n",
            "+---------------+-----------+\n",
            "only showing top 20 rows\n",
            "\n"
          ]
        }
      ]
    },
    {
      "cell_type": "code",
      "source": [
        "# Query 19 - show count of pop, rock, metal and hip hop singers\n",
        "q19 = genre_df \\\n",
        "    .select('genre') \\\n",
        "    .filter(genre_df.genre.isin(['pop','rock','metal','hip hop'])) \\\n",
        "    .groupBy('genre') \\\n",
        "    .agg(count('*').alias('count'))\n",
        "q19.show()"
      ],
      "metadata": {
        "colab": {
          "base_uri": "https://localhost:8080/"
        },
        "id": "NqAcn_iMhkNz",
        "outputId": "771e751b-d3d1-44db-c0ab-25ea81b6e008"
      },
      "execution_count": 40,
      "outputs": [
        {
          "output_type": "stream",
          "name": "stdout",
          "text": [
            "+-------+-----+\n",
            "|  genre|count|\n",
            "+-------+-----+\n",
            "|    pop| 6960|\n",
            "|hip hop| 4288|\n",
            "|  metal| 1854|\n",
            "|   rock| 9066|\n",
            "+-------+-----+\n",
            "\n"
          ]
        }
      ]
    },
    {
      "cell_type": "code",
      "source": [
        "q19 = genre_df \\\n",
        "    .select('genre') \\\n",
        "    .filter((col('genre')=='pop') | (col('genre')=='rock') | (col('genre')=='metal') | (col('genre')=='hip hop')) \\\n",
        "    .groupBy('genre') \\\n",
        "    .agg(count('genre').alias('count'))\n",
        "q19.show()"
      ],
      "metadata": {
        "colab": {
          "base_uri": "https://localhost:8080/"
        },
        "id": "b4ICwenaiiEX",
        "outputId": "534ea2e6-c733-434d-8a2d-7f389f8d376f"
      },
      "execution_count": 41,
      "outputs": [
        {
          "output_type": "stream",
          "name": "stdout",
          "text": [
            "+-------+-----+\n",
            "|  genre|count|\n",
            "+-------+-----+\n",
            "|    pop| 6960|\n",
            "|hip hop| 4288|\n",
            "|  metal| 1854|\n",
            "|   rock| 9066|\n",
            "+-------+-----+\n",
            "\n"
          ]
        }
      ]
    },
    {
      "cell_type": "code",
      "source": [
        "q19.collect() # shows list of row objects genre and count"
      ],
      "metadata": {
        "colab": {
          "base_uri": "https://localhost:8080/"
        },
        "id": "7BY7Z1dDjOvY",
        "outputId": "28ad8725-5d4f-4542-eb66-3675425ee55f"
      },
      "execution_count": 42,
      "outputs": [
        {
          "output_type": "execute_result",
          "data": {
            "text/plain": [
              "[Row(genre='pop', count=6960),\n",
              " Row(genre='hip hop', count=4288),\n",
              " Row(genre='metal', count=1854),\n",
              " Row(genre='rock', count=9066)]"
            ]
          },
          "metadata": {},
          "execution_count": 42
        }
      ]
    },
    {
      "cell_type": "code",
      "source": [
        "print(q19.collect())"
      ],
      "metadata": {
        "id": "lwaA4GYArGky"
      },
      "execution_count": null,
      "outputs": []
    },
    {
      "cell_type": "code",
      "source": [
        "q19_list = q19.collect()\n",
        "\n",
        "labels = [row['genre'] for row in q19_list]\n",
        "counts = [row['count'] for row in q19_list]\n",
        "\n",
        "print(labels)\n",
        "print(counts)"
      ],
      "metadata": {
        "colab": {
          "base_uri": "https://localhost:8080/"
        },
        "id": "ZBr1FmlxjeOV",
        "outputId": "344eb935-3a10-4822-8f06-cc7ed59c2e8a"
      },
      "execution_count": 49,
      "outputs": [
        {
          "output_type": "stream",
          "name": "stdout",
          "text": [
            "['pop', 'hip hop', 'metal', 'rock']\n",
            "[6960, 4288, 1854, 9066]\n"
          ]
        }
      ]
    },
    {
      "cell_type": "code",
      "source": [],
      "metadata": {
        "id": "dWBysxvW6Gr4"
      },
      "execution_count": null,
      "outputs": []
    },
    {
      "cell_type": "markdown",
      "source": [
        "# 4. Visualization basics with matplotlib"
      ],
      "metadata": {
        "id": "870cxMxN6G9K"
      }
    },
    {
      "cell_type": "code",
      "source": [
        "# VISUALIZATION for Query 19 - show count of pop, rock, metal and hip hop singers\n",
        "plts.bar(labels, counts)\n",
        "plts.show()"
      ],
      "metadata": {
        "colab": {
          "base_uri": "https://localhost:8080/",
          "height": 430
        },
        "id": "7why-5AvkQZS",
        "outputId": "a6b839b6-21c9-47f5-cb80-70445598f7ef"
      },
      "execution_count": 48,
      "outputs": [
        {
          "output_type": "display_data",
          "data": {
            "text/plain": [
              "<Figure size 640x480 with 1 Axes>"
            ],
            "image/png": "[encoded data removed]"
          },
          "metadata": {}
        }
      ]
    }
  ]
}