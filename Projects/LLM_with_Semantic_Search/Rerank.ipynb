{
  "cells": [
    {
      "cell_type": "markdown",
      "metadata": {
        "id": "view-in-github",
        "colab_type": "text"
      },
      "source": [
        "<a href=\"https://colab.research.google.com/github/AnkitaDasData/AnalyticsHub/blob/main/Projects/LLM_with_Semantic_Search/Rerank.ipynb\" target=\"_parent\"><img src=\"https://colab.research.google.com/assets/colab-badge.svg\" alt=\"Open In Colab\"/></a>"
      ]
    },
    {
      "cell_type": "markdown",
      "id": "0ead654a",
      "metadata": {
        "id": "0ead654a"
      },
      "source": [
        "# ReRank"
      ]
    },
    {
      "cell_type": "markdown",
      "id": "99f6a6f7",
      "metadata": {
        "id": "99f6a6f7"
      },
      "source": [
        "## Setup\n",
        "\n",
        "Load needed API keys and relevant Python libaries."
      ]
    },
    {
      "cell_type": "code",
      "execution_count": 1,
      "id": "f350cd1b",
      "metadata": {
        "height": 47,
        "colab": {
          "base_uri": "https://localhost:8080/"
        },
        "id": "f350cd1b",
        "outputId": "97f8e69b-2dc9-4d9c-d498-bdab3a48a193"
      },
      "outputs": [
        {
          "output_type": "stream",
          "name": "stdout",
          "text": [
            "Requirement already satisfied: cohere in /usr/local/lib/python3.10/dist-packages (5.11.3)\n",
            "Requirement already satisfied: fastavro<2.0.0,>=1.9.4 in /usr/local/lib/python3.10/dist-packages (from cohere) (1.9.7)\n",
            "Requirement already satisfied: httpx>=0.21.2 in /usr/local/lib/python3.10/dist-packages (from cohere) (0.27.0)\n",
            "Requirement already satisfied: httpx-sse==0.4.0 in /usr/local/lib/python3.10/dist-packages (from cohere) (0.4.0)\n",
            "Requirement already satisfied: parameterized<0.10.0,>=0.9.0 in /usr/local/lib/python3.10/dist-packages (from cohere) (0.9.0)\n",
            "Requirement already satisfied: pydantic>=1.9.2 in /usr/local/lib/python3.10/dist-packages (from cohere) (2.9.2)\n",
            "Requirement already satisfied: pydantic-core<3.0.0,>=2.18.2 in /usr/local/lib/python3.10/dist-packages (from cohere) (2.23.4)\n",
            "Requirement already satisfied: requests<3.0.0,>=2.0.0 in /usr/local/lib/python3.10/dist-packages (from cohere) (2.32.3)\n",
            "Requirement already satisfied: tokenizers<1,>=0.15 in /usr/local/lib/python3.10/dist-packages (from cohere) (0.19.1)\n",
            "Requirement already satisfied: types-requests<3.0.0,>=2.0.0 in /usr/local/lib/python3.10/dist-packages (from cohere) (2.32.0.20241016)\n",
            "Requirement already satisfied: typing_extensions>=4.0.0 in /usr/local/lib/python3.10/dist-packages (from cohere) (4.12.2)\n",
            "Requirement already satisfied: anyio in /usr/local/lib/python3.10/dist-packages (from httpx>=0.21.2->cohere) (3.7.1)\n",
            "Requirement already satisfied: certifi in /usr/local/lib/python3.10/dist-packages (from httpx>=0.21.2->cohere) (2024.8.30)\n",
            "Requirement already satisfied: httpcore==1.* in /usr/local/lib/python3.10/dist-packages (from httpx>=0.21.2->cohere) (1.0.6)\n",
            "Requirement already satisfied: idna in /usr/local/lib/python3.10/dist-packages (from httpx>=0.21.2->cohere) (3.10)\n",
            "Requirement already satisfied: sniffio in /usr/local/lib/python3.10/dist-packages (from httpx>=0.21.2->cohere) (1.3.1)\n",
            "Requirement already satisfied: h11<0.15,>=0.13 in /usr/local/lib/python3.10/dist-packages (from httpcore==1.*->httpx>=0.21.2->cohere) (0.14.0)\n",
            "Requirement already satisfied: annotated-types>=0.6.0 in /usr/local/lib/python3.10/dist-packages (from pydantic>=1.9.2->cohere) (0.7.0)\n",
            "Requirement already satisfied: charset-normalizer<4,>=2 in /usr/local/lib/python3.10/dist-packages (from requests<3.0.0,>=2.0.0->cohere) (3.4.0)\n",
            "Requirement already satisfied: urllib3<3,>=1.21.1 in /usr/local/lib/python3.10/dist-packages (from requests<3.0.0,>=2.0.0->cohere) (2.2.3)\n",
            "Requirement already satisfied: huggingface-hub<1.0,>=0.16.4 in /usr/local/lib/python3.10/dist-packages (from tokenizers<1,>=0.15->cohere) (0.24.7)\n",
            "Requirement already satisfied: filelock in /usr/local/lib/python3.10/dist-packages (from huggingface-hub<1.0,>=0.16.4->tokenizers<1,>=0.15->cohere) (3.16.1)\n",
            "Requirement already satisfied: fsspec>=2023.5.0 in /usr/local/lib/python3.10/dist-packages (from huggingface-hub<1.0,>=0.16.4->tokenizers<1,>=0.15->cohere) (2024.10.0)\n",
            "Requirement already satisfied: packaging>=20.9 in /usr/local/lib/python3.10/dist-packages (from huggingface-hub<1.0,>=0.16.4->tokenizers<1,>=0.15->cohere) (24.1)\n",
            "Requirement already satisfied: pyyaml>=5.1 in /usr/local/lib/python3.10/dist-packages (from huggingface-hub<1.0,>=0.16.4->tokenizers<1,>=0.15->cohere) (6.0.2)\n",
            "Requirement already satisfied: tqdm>=4.42.1 in /usr/local/lib/python3.10/dist-packages (from huggingface-hub<1.0,>=0.16.4->tokenizers<1,>=0.15->cohere) (4.66.6)\n",
            "Requirement already satisfied: exceptiongroup in /usr/local/lib/python3.10/dist-packages (from anyio->httpx>=0.21.2->cohere) (1.2.2)\n",
            "Requirement already satisfied: weaviate-client in /usr/local/lib/python3.10/dist-packages (4.9.3)\n",
            "Requirement already satisfied: requests<3.0.0,>=2.30.0 in /usr/local/lib/python3.10/dist-packages (from weaviate-client) (2.32.3)\n",
            "Requirement already satisfied: httpx<=0.27.0,>=0.25.0 in /usr/local/lib/python3.10/dist-packages (from weaviate-client) (0.27.0)\n",
            "Requirement already satisfied: validators==0.34.0 in /usr/local/lib/python3.10/dist-packages (from weaviate-client) (0.34.0)\n",
            "Requirement already satisfied: authlib<1.3.2,>=1.2.1 in /usr/local/lib/python3.10/dist-packages (from weaviate-client) (1.3.1)\n",
            "Requirement already satisfied: pydantic<3.0.0,>=2.5.0 in /usr/local/lib/python3.10/dist-packages (from weaviate-client) (2.9.2)\n",
            "Requirement already satisfied: grpcio<2.0.0,>=1.57.0 in /usr/local/lib/python3.10/dist-packages (from weaviate-client) (1.67.1)\n",
            "Requirement already satisfied: grpcio-tools<2.0.0,>=1.57.0 in /usr/local/lib/python3.10/dist-packages (from weaviate-client) (1.67.1)\n",
            "Requirement already satisfied: grpcio-health-checking<2.0.0,>=1.57.0 in /usr/local/lib/python3.10/dist-packages (from weaviate-client) (1.67.1)\n",
            "Requirement already satisfied: cryptography in /usr/local/lib/python3.10/dist-packages (from authlib<1.3.2,>=1.2.1->weaviate-client) (43.0.3)\n",
            "Requirement already satisfied: protobuf<6.0dev,>=5.26.1 in /usr/local/lib/python3.10/dist-packages (from grpcio-health-checking<2.0.0,>=1.57.0->weaviate-client) (5.28.3)\n",
            "Requirement already satisfied: setuptools in /usr/local/lib/python3.10/dist-packages (from grpcio-tools<2.0.0,>=1.57.0->weaviate-client) (75.1.0)\n",
            "Requirement already satisfied: anyio in /usr/local/lib/python3.10/dist-packages (from httpx<=0.27.0,>=0.25.0->weaviate-client) (3.7.1)\n",
            "Requirement already satisfied: certifi in /usr/local/lib/python3.10/dist-packages (from httpx<=0.27.0,>=0.25.0->weaviate-client) (2024.8.30)\n",
            "Requirement already satisfied: httpcore==1.* in /usr/local/lib/python3.10/dist-packages (from httpx<=0.27.0,>=0.25.0->weaviate-client) (1.0.6)\n",
            "Requirement already satisfied: idna in /usr/local/lib/python3.10/dist-packages (from httpx<=0.27.0,>=0.25.0->weaviate-client) (3.10)\n",
            "Requirement already satisfied: sniffio in /usr/local/lib/python3.10/dist-packages (from httpx<=0.27.0,>=0.25.0->weaviate-client) (1.3.1)\n",
            "Requirement already satisfied: h11<0.15,>=0.13 in /usr/local/lib/python3.10/dist-packages (from httpcore==1.*->httpx<=0.27.0,>=0.25.0->weaviate-client) (0.14.0)\n",
            "Requirement already satisfied: annotated-types>=0.6.0 in /usr/local/lib/python3.10/dist-packages (from pydantic<3.0.0,>=2.5.0->weaviate-client) (0.7.0)\n",
            "Requirement already satisfied: pydantic-core==2.23.4 in /usr/local/lib/python3.10/dist-packages (from pydantic<3.0.0,>=2.5.0->weaviate-client) (2.23.4)\n",
            "Requirement already satisfied: typing-extensions>=4.6.1 in /usr/local/lib/python3.10/dist-packages (from pydantic<3.0.0,>=2.5.0->weaviate-client) (4.12.2)\n",
            "Requirement already satisfied: charset-normalizer<4,>=2 in /usr/local/lib/python3.10/dist-packages (from requests<3.0.0,>=2.30.0->weaviate-client) (3.4.0)\n",
            "Requirement already satisfied: urllib3<3,>=1.21.1 in /usr/local/lib/python3.10/dist-packages (from requests<3.0.0,>=2.30.0->weaviate-client) (2.2.3)\n",
            "Requirement already satisfied: exceptiongroup in /usr/local/lib/python3.10/dist-packages (from anyio->httpx<=0.27.0,>=0.25.0->weaviate-client) (1.2.2)\n",
            "Requirement already satisfied: cffi>=1.12 in /usr/local/lib/python3.10/dist-packages (from cryptography->authlib<1.3.2,>=1.2.1->weaviate-client) (1.17.1)\n",
            "Requirement already satisfied: pycparser in /usr/local/lib/python3.10/dist-packages (from cffi>=1.12->cryptography->authlib<1.3.2,>=1.2.1->weaviate-client) (2.22)\n",
            "Requirement already satisfied: python-dotenv in /usr/local/lib/python3.10/dist-packages (1.0.1)\n"
          ]
        }
      ],
      "source": [
        " !pip install cohere\n",
        " !pip install weaviate-client\n",
        " !pip install python-dotenv"
      ]
    },
    {
      "cell_type": "code",
      "execution_count": 2,
      "id": "b2febbb9-27dd-4209-838a-99b4f9cdf51b",
      "metadata": {
        "height": 64,
        "id": "b2febbb9-27dd-4209-838a-99b4f9cdf51b"
      },
      "outputs": [],
      "source": [
        "import os\n",
        "import json\n",
        "import cohere\n",
        "import weaviate\n",
        "from dotenv import load_dotenv, find_dotenv\n",
        "#_ = load_dotenv(find_dotenv()) # read local .env file"
      ]
    },
    {
      "cell_type": "code",
      "execution_count": 3,
      "id": "30737b1b-e4c8-4bd0-a04b-c2ce70d28821",
      "metadata": {
        "height": 64,
        "id": "30737b1b-e4c8-4bd0-a04b-c2ce70d28821"
      },
      "outputs": [],
      "source": [
        "# Step 3: Connecting\n",
        "#library of functions that use LLM called via API\n",
        "# Set your API key here\n",
        "os.environ['WEAVIATE_API_KEY'] = '76320a90-53d8-42bc-b41d-678647c6672e'\n",
        "os.environ['COHERE_API_KEY'] = 'pEyGu0nvKEqSeqFYTc6VP0YVlaYcOi7yzZ3e3IMI'\n",
        "co = cohere.Client(os.environ['COHERE_API_KEY'])"
      ]
    },
    {
      "cell_type": "code",
      "execution_count": 4,
      "id": "8781f638-17c7-4ab7-86b5-3763d4d5abad",
      "metadata": {
        "height": 132,
        "colab": {
          "base_uri": "https://localhost:8080/"
        },
        "id": "8781f638-17c7-4ab7-86b5-3763d4d5abad",
        "outputId": "3fc32b70-d92e-4baf-8160-4d62387ab0c0"
      },
      "outputs": [
        {
          "output_type": "stream",
          "name": "stderr",
          "text": [
            "<ipython-input-4-155bff1b5ec2>:5: DeprecationWarning: \n",
            "Python client v3 `weaviate.Client(...)` connections and methods are deprecated and will\n",
            "            be removed by 2024-11-30.\n",
            "\n",
            "            Upgrade your code to use Python client v4 `weaviate.WeaviateClient` connections and methods.\n",
            "                - For Python Client v4 usage, see: https://weaviate.io/developers/weaviate/client-libraries/python\n",
            "                - For code migration, see: https://weaviate.io/developers/weaviate/client-libraries/python/v3_v4_migration\n",
            "\n",
            "            If you have to use v3 code, install the v3 client and pin the v3 dependency in your requirements file: `weaviate-client>=3.26.7;<4.0.0`\n",
            "  client = weaviate.Client(\n"
          ]
        }
      ],
      "source": [
        "# Step 3: Set up the connection to the Weaviate instance (no API key)\n",
        "# Set the API key\n",
        "# Set your API key here\n",
        "# Initialize client with your API key\n",
        "client = weaviate.Client(\n",
        "    url=\"https://cohere-demo.weaviate.network\",\n",
        "    auth_client_secret=weaviate.AuthApiKey(api_key=os.getenv('WEAVIATE_API_KEY')),\n",
        "    additional_headers={\"X-Cohere-Api-Key\": os.getenv('COHERE_API_KEY')}\n",
        ")\n",
        "\n",
        "# Example query (replace \"YourClassName\" and fields with the relevant class and fields)\n",
        "#result = client.query.get(\"YourClassName\", [\"field1\", \"field2\"]).do()\n",
        "\n",
        "#print(result)"
      ]
    },
    {
      "cell_type": "markdown",
      "id": "ffcc8e5e",
      "metadata": {
        "id": "ffcc8e5e"
      },
      "source": [
        "## Dense Retrieval"
      ]
    },
    {
      "cell_type": "code",
      "execution_count": 5,
      "id": "b8561fbf-035e-4856-a97f-8eda21d32a81",
      "metadata": {
        "height": 30,
        "id": "b8561fbf-035e-4856-a97f-8eda21d32a81"
      },
      "outputs": [],
      "source": [
        "# Performs a dense retrieval search.\n",
        "#     Args:\n",
        "#         query: The search query.\n",
        "#         properties: A list of properties to retrieve, or a single property name as a string.\n",
        "#                     If None, all properties will be retrieved.\n",
        "#         num_results: The maximum number of results to retrieve.\n",
        "#     Returns:\n",
        "#         A list of results.\n",
        "\n",
        "def dense_retrieval(query,\n",
        "                    #results_lang='en',\n",
        "                    properties=[\"title\", \"url\", \"text\"],\n",
        "                    num_results=3):\n",
        "\n",
        "    # Define nearText for dense retrieval\n",
        "    nearText = {\n",
        "        \"concepts\": [query],  # Querying based on concepts (dense retrieval)\n",
        "        #\"certainty\": 0.7        # Optional: Only return results with a similarity > 0.7\n",
        "        \"distance\": 0.8  # Adjust this value to control the search radius\n",
        "    }\n",
        "\n",
        "    # # Filter by language\n",
        "    # where_filter = {\n",
        "    #     \"path\": [\"lang\"],\n",
        "    #     \"operator\": \"Equal\",\n",
        "    #     \"valueString\": results_lang\n",
        "    # }\n",
        "\n",
        "    # If properties is a single string, convert it to a list\n",
        "    if isinstance(properties, str):\n",
        "        properties = [properties]\n",
        "\n",
        "    # Execute the query with nearText\n",
        "    response = (\n",
        "        client.query\n",
        "        .get(\"Articles\", properties)\n",
        "        .with_near_text(nearText)\n",
        "        #.with_where(where_filter)\n",
        "        .with_limit(num_results)\n",
        "        .do()\n",
        "    )\n",
        "\n",
        "    # Print the raw response for debugging\n",
        "    #print(\"Raw response:\", json.dumps(response, indent=4))\n",
        "\n",
        "    # Extract the results from the response\n",
        "    result = response['data']['Get']['Articles']\n",
        "    return result\n",
        "    #return response.do()\n"
      ]
    },
    {
      "cell_type": "code",
      "execution_count": 6,
      "id": "15694a5c-3525-49cc-b5e9-d1c34ae0fbe9",
      "metadata": {
        "height": 30,
        "id": "15694a5c-3525-49cc-b5e9-d1c34ae0fbe9"
      },
      "outputs": [],
      "source": [
        "query = \"What is the capital of Canada?\""
      ]
    },
    {
      "cell_type": "code",
      "execution_count": 7,
      "id": "6dfede25-8a43-41c9-9328-d331695c4fcb",
      "metadata": {
        "height": 30,
        "id": "6dfede25-8a43-41c9-9328-d331695c4fcb"
      },
      "outputs": [],
      "source": [
        "dense_retrieval_results = dense_retrieval(query)"
      ]
    },
    {
      "cell_type": "code",
      "execution_count": 8,
      "id": "1822cc6c-ddc2-4938-b746-7cda2506d51e",
      "metadata": {
        "height": 30,
        "id": "1822cc6c-ddc2-4938-b746-7cda2506d51e"
      },
      "outputs": [],
      "source": [
        "def print_result(results):\n",
        "    if results:\n",
        "        for i, result in enumerate(results):\n",
        "            print(f\"Result {i+1}:\")\n",
        "            for key, value in result.items():\n",
        "                print(f\"  {key}: {value}\")\n",
        "            print()  # Empty line between results\n",
        "    else:\n",
        "        print(\"No results found.\")"
      ]
    },
    {
      "cell_type": "code",
      "execution_count": 9,
      "id": "2990c5c4-1b63-453e-8dd8-8568cb7872f5",
      "metadata": {
        "height": 30,
        "colab": {
          "base_uri": "https://localhost:8080/"
        },
        "id": "2990c5c4-1b63-453e-8dd8-8568cb7872f5",
        "outputId": "996ab1ac-c67d-4abf-ad05-e12497b10e07"
      },
      "outputs": [
        {
          "output_type": "stream",
          "name": "stdout",
          "text": [
            "Result 1:\n",
            "  text: The governor general of the province had designated Kingston as the capital in 1841. However, the major population centres of Toronto and Montreal, as well as the former capital of Lower Canada, Quebec City, all had legislators dissatisfied with Kingston. Anglophone merchants in Quebec were the main group supportive of the Kingston arrangement. In 1842, a vote rejected Kingston as the capital, and study of potential candidates included the then-named Bytown, but that option proved less popular than Toronto or Montreal. In 1843, a report of the Executive Council recommended Montreal as the capital as a more fortifiable location and commercial centre, however, the Governor General refused to execute a move without a parliamentary vote. In 1844, the Queen's acceptance of a parliamentary vote moved the capital to Montreal.\n",
            "  title: Ottawa\n",
            "  url: https://en.wikipedia.org/wiki?curid=22219\n",
            "\n",
            "Result 2:\n",
            "  text: For brief periods, Toronto was twice the capital of the united Province of Canada: first from 1849 to 1852, following unrest in Montreal, and later 1856–1858. After this date, Quebec was designated as the capital until 1866 (one year before Canadian Confederation). Since then, the capital of Canada has remained Ottawa, Ontario.\n",
            "  title: Toronto\n",
            "  url: https://en.wikipedia.org/wiki?curid=64646\n",
            "\n",
            "Result 3:\n",
            "  text: Selection of Ottawa as the capital of Canada predates the Confederation of Canada. The selection was contentious and not straightforward, with the parliament of the United Province of Canada holding more than 200 votes over several decades to attempt to settle on a legislative solution to the location of the capital.\n",
            "  title: Ottawa\n",
            "  url: https://en.wikipedia.org/wiki?curid=22219\n",
            "\n"
          ]
        }
      ],
      "source": [
        "print_result(dense_retrieval_results)"
      ]
    },
    {
      "cell_type": "markdown",
      "id": "db449134",
      "metadata": {
        "id": "db449134"
      },
      "source": [
        "## Improving Keyword Search with ReRank"
      ]
    },
    {
      "cell_type": "code",
      "execution_count": 10,
      "id": "8071c68a-6dec-47f9-b5e1-473f9acdc83f",
      "metadata": {
        "height": 30,
        "id": "8071c68a-6dec-47f9-b5e1-473f9acdc83f"
      },
      "outputs": [],
      "source": [
        "# Define the keyword_search function\n",
        "def keyword_search(query,\n",
        "                   results_lang='en',\n",
        "                   properties=[\"title\", \"url\", \"text\"],\n",
        "                   num_results=3):\n",
        "    \"\"\"\n",
        "    Searches for articles based on the query and returns results.\n",
        "    Args:\n",
        "        query: The search query string.\n",
        "        results_lang: Language filter for the results.\n",
        "        properties: List of properties to retrieve for each article.\n",
        "        num_results: Number of results to return.\n",
        "    Returns:\n",
        "        List of search results.\n",
        "    \"\"\"\n",
        "    where_filter = {\n",
        "        \"path\": [\"lang\"],\n",
        "        \"operator\": \"Equal\",\n",
        "        \"valueString\": results_lang\n",
        "    }\n",
        "\n",
        "    # Serialize and deserialize the filter to avoid threading issues\n",
        "    where_filter_json = json.dumps(where_filter)\n",
        "    where_filter = json.loads(where_filter_json)\n",
        "\n",
        "    # Perform the query (replace `client` with your configured Weaviate client)\n",
        "    response = (\n",
        "        client.query.get(\"Articles\", properties)\n",
        "        .with_bm25(query=query)\n",
        "        .with_where(where_filter)\n",
        "        .with_limit(num_results)\n",
        "        .do()\n",
        "    )\n",
        "\n",
        "    # Extract the results\n",
        "    result = response['data']['Get']['Articles']\n",
        "    return result"
      ]
    },
    {
      "cell_type": "code",
      "source": [
        "# Function to print results\n",
        "def print_results(results, reranked=False):\n",
        "    \"\"\"\n",
        "    Prints the details of the results, including relevance scores.\n",
        "    Args:\n",
        "        results: List of dictionaries containing the results.\n",
        "        reranked: Boolean, set to True if printing reranked results.\n",
        "    \"\"\"\n",
        "    header = \"Reranked Results\" if reranked else \"Original Results\"\n",
        "    print(f\"\\n--- {header} ---\\n\")\n",
        "    for i, result in enumerate(results):\n",
        "        title = result.get('title', 'No Title')\n",
        "        text = result.get('text', 'No Text')\n",
        "        # Check if '_additional' exists and is a dictionary before accessing 'distance'\n",
        "        score = result.get('score', 'No Score')  # First, try getting the regular 'score' field\n",
        "        #if score == 'No Score' and isinstance(result.get('_additional'), dict):\n",
        "        #    score = result.get('_additional', {}).get('distance', 'No Score')\n",
        "        print(f\"i:{i}\")\n",
        "        print(f\"Title: {title}\")\n",
        "        print(f\"Text: {text[:300]}...\")  # Truncated for brevity\n",
        "        print(f\"Relevance Score: {score}\")\n",
        "        print(\"-\" * 50)"
      ],
      "metadata": {
        "id": "Ozf8NDIdxvZg"
      },
      "id": "Ozf8NDIdxvZg",
      "execution_count": 11,
      "outputs": []
    },
    {
      "cell_type": "code",
      "source": [
        "# Function to prepare results for reranking\n",
        "def prepare_for_reranking(results):\n",
        "    \"\"\"\n",
        "    Prepare a list of documents from the results for reranking.\n",
        "    Args:\n",
        "        results: List of dictionaries containing search results.\n",
        "    Returns:\n",
        "        List of dictionaries containing title, text, and scores for reranking.\n",
        "    \"\"\"\n",
        "    documents = [\n",
        "        {\n",
        "            \"text\": result.get(\"text\", \"No Text\"),\n",
        "            \"title\": result.get(\"title\", \"No Title\"),\n",
        "            #\"score\": result.get('score', result.get('_additional', {}).get('distance', 'No Score'))\n",
        "        }\n",
        "        for result in results\n",
        "    ]\n",
        "    return documents\n"
      ],
      "metadata": {
        "id": "8gx3a8jEye4j"
      },
      "id": "8gx3a8jEye4j",
      "execution_count": 12,
      "outputs": []
    },
    {
      "cell_type": "code",
      "source": [
        "# Function to rerank results based on the query\n",
        "def rerank_results(query, documents, top_n=5):\n",
        "    \"\"\"\n",
        "    Reranks the given documents based on the query.\n",
        "    Args:\n",
        "        query: The search query string.\n",
        "        documents: List of document texts to be reranked.\n",
        "        top_n: Number of top results to return.\n",
        "    Returns:\n",
        "        List of reranked results with their scores.\n",
        "    \"\"\"\n",
        "    # Simulate reranking (replace this with actual API/model call)\n",
        "    reranked = [\n",
        "        {\"title\": doc[\"title\"], \"text\": doc[\"text\"], \"score\": len(doc[\"text\"])}  # Example: score by text length\n",
        "        for doc in documents\n",
        "    ]\n",
        "    reranked = sorted(reranked, key=lambda x: x['score'], reverse=True)[:top_n]\n",
        "    return reranked"
      ],
      "metadata": {
        "id": "lfB1hZE9yh3Q"
      },
      "id": "lfB1hZE9yh3Q",
      "execution_count": 13,
      "outputs": []
    },
    {
      "cell_type": "code",
      "source": [
        "query_1 = \"What is the capital of Canada?\"\n",
        "\n",
        "# Fetch original results (ensure `client` is correctly configured for Weaviate)\n",
        "results = keyword_search(\n",
        "    query_1,\n",
        "    results_lang='en',\n",
        "    properties=[\"text\", \"title\", \"url\", \"views\", \"lang\", \"_additional {distance}\"],\n",
        "    num_results=10\n",
        "    )\n",
        "\n",
        "# Print original results\n",
        "print_results(results)\n",
        "\n",
        "# Prepare documents for reranking\n",
        "documents = prepare_for_reranking(results)\n",
        "\n",
        "# Print prepared results with relevance scores\n",
        "print(\"\\n--- Prepared Documents for Reranking ---\\n\")\n",
        "for i, doc in enumerate(documents):\n",
        "    print(f\"i:{i}\")\n",
        "    print(f\"Title: {doc['title']}\")\n",
        "    print(f\"Text: {doc['text'][:300]}...\")  # Truncated for brevity\n",
        "    #print(f\"Relevance Score: {doc['score']}\")\n",
        "    print(\"-\" * 50)\n",
        "\n",
        "# Perform reranking\n",
        "reranked_results = rerank_results(query_1, documents, top_n=5)\n",
        "\n",
        "# Print reranked results with relevance scores\n",
        "print_results(reranked_results, reranked=True)"
      ],
      "metadata": {
        "colab": {
          "base_uri": "https://localhost:8080/"
        },
        "id": "i2b7W5_QylsC",
        "outputId": "01391644-f184-4f19-e0d4-b944f0264656"
      },
      "id": "i2b7W5_QylsC",
      "execution_count": 14,
      "outputs": [
        {
          "output_type": "stream",
          "name": "stdout",
          "text": [
            "\n",
            "--- Original Results ---\n",
            "\n",
            "i:0\n",
            "Title: Monarchy of Canada\n",
            "Text: In his 1990 book, \"Continental Divide: the Values and Institutions of the United States and Canada,\" Seymour Martin Lipset argues that the presence of the monarchy in Canada helps distinguish Canadian identity from American identity. Since at least the 1930s, supporters of the Crown have held the op...\n",
            "Relevance Score: No Score\n",
            "--------------------------------------------------\n",
            "i:1\n",
            "Title: Early modern period\n",
            "Text: North America outside the zone of Spanish settlement was a contested area in the 17th century. Spain had founded small settlements in Florida and Georgia but nowhere near the size of those in New Spain or the Caribbean islands. France, The Netherlands, and Great Britain held several colonies in Nort...\n",
            "Relevance Score: No Score\n",
            "--------------------------------------------------\n",
            "i:2\n",
            "Title: Flag of Canada\n",
            "Text: By the Second World War, the Red Ensign was viewed as Canada's \"de facto\" national flag. A joint committee of the Senate and House of Commons was appointed on November 8, 1945, to recommend a national flag to officially adopt. It received 2,409 designs from the public and was addressed by the direct...\n",
            "Relevance Score: No Score\n",
            "--------------------------------------------------\n",
            "i:3\n",
            "Title: Flag of Canada\n",
            "Text: There, near the parade square, in March 1964, while viewing the college flag atop the Mackenzie Building, Stanley, then RMC's Dean of Arts, first suggested to Matheson, then Member of Parliament for Leeds, that the RMC flag should form the basis of the national flag. The suggestion was followed by S...\n",
            "Relevance Score: No Score\n",
            "--------------------------------------------------\n",
            "i:4\n",
            "Title: Prime Minister of Canada\n",
            "Text: Pierre Trudeau is credited with, throughout his tenure as prime minister between 1968 and 1984, consolidating power in the PMO, which is itself filled by political and administrative staff selected at the prime minister's discretion and unaccountable to Parliament. At the end of the 20th century and...\n",
            "Relevance Score: No Score\n",
            "--------------------------------------------------\n",
            "i:5\n",
            "Title: Hamilton, Ontario\n",
            "Text: With sixty percent of Canada's steel produced in Hamilton by Stelco and Dofasco, the city has become known as the Steel Capital of Canada. After nearly declaring bankruptcy, Stelco returned to profitability in 2004. On August 26, 2007 United States Steel Corporation acquired Stelco for C$38.50 in ca...\n",
            "Relevance Score: No Score\n",
            "--------------------------------------------------\n",
            "i:6\n",
            "Title: Liberal Party of Canada\n",
            "Text: Scholars and political experts have recently used a political realignment model to explain what was considered a collapse of a dominant party, and put its condition in long-term perspective. According to recent scholarship, there have been four party systems in Canada at the federal level since Conf...\n",
            "Relevance Score: No Score\n",
            "--------------------------------------------------\n",
            "i:7\n",
            "Title: Stephen Harper\n",
            "Text: In 2010, Canada lost a bid for a seat on the UN Security Council. While initially blaming the loss on his rival Ignatieff, Harper later said that it was due to his pro-Israeli stance. Harper then said that he would take a pro-Israeli stance, no matter what the political cost to Canada. Ignatieff cri...\n",
            "Relevance Score: No Score\n",
            "--------------------------------------------------\n",
            "i:8\n",
            "Title: Monarchy of Canada\n",
            "Text: John Pepall argued in 1990 that a \"Liberal-inspired republican misconception of the role\" of governor general had taken root, though the Conservative government headed by Brian Mulroney exacerbated the matter. The position of prime minister has simultaneously undergone, with encouragement from its o...\n",
            "Relevance Score: No Score\n",
            "--------------------------------------------------\n",
            "i:9\n",
            "Title: Flag of Canada\n",
            "Text: In 1961, Leader of the Opposition Lester Pearson asked John Ross Matheson to begin researching what it would take for Canada to have a new flag. By April 1963, Pearson was prime minister in a minority government and risked losing power over the issue. He formed a 15-member multi-party parliamentary ...\n",
            "Relevance Score: No Score\n",
            "--------------------------------------------------\n",
            "\n",
            "--- Prepared Documents for Reranking ---\n",
            "\n",
            "i:0\n",
            "Title: Monarchy of Canada\n",
            "Text: In his 1990 book, \"Continental Divide: the Values and Institutions of the United States and Canada,\" Seymour Martin Lipset argues that the presence of the monarchy in Canada helps distinguish Canadian identity from American identity. Since at least the 1930s, supporters of the Crown have held the op...\n",
            "--------------------------------------------------\n",
            "i:1\n",
            "Title: Early modern period\n",
            "Text: North America outside the zone of Spanish settlement was a contested area in the 17th century. Spain had founded small settlements in Florida and Georgia but nowhere near the size of those in New Spain or the Caribbean islands. France, The Netherlands, and Great Britain held several colonies in Nort...\n",
            "--------------------------------------------------\n",
            "i:2\n",
            "Title: Flag of Canada\n",
            "Text: By the Second World War, the Red Ensign was viewed as Canada's \"de facto\" national flag. A joint committee of the Senate and House of Commons was appointed on November 8, 1945, to recommend a national flag to officially adopt. It received 2,409 designs from the public and was addressed by the direct...\n",
            "--------------------------------------------------\n",
            "i:3\n",
            "Title: Flag of Canada\n",
            "Text: There, near the parade square, in March 1964, while viewing the college flag atop the Mackenzie Building, Stanley, then RMC's Dean of Arts, first suggested to Matheson, then Member of Parliament for Leeds, that the RMC flag should form the basis of the national flag. The suggestion was followed by S...\n",
            "--------------------------------------------------\n",
            "i:4\n",
            "Title: Prime Minister of Canada\n",
            "Text: Pierre Trudeau is credited with, throughout his tenure as prime minister between 1968 and 1984, consolidating power in the PMO, which is itself filled by political and administrative staff selected at the prime minister's discretion and unaccountable to Parliament. At the end of the 20th century and...\n",
            "--------------------------------------------------\n",
            "i:5\n",
            "Title: Hamilton, Ontario\n",
            "Text: With sixty percent of Canada's steel produced in Hamilton by Stelco and Dofasco, the city has become known as the Steel Capital of Canada. After nearly declaring bankruptcy, Stelco returned to profitability in 2004. On August 26, 2007 United States Steel Corporation acquired Stelco for C$38.50 in ca...\n",
            "--------------------------------------------------\n",
            "i:6\n",
            "Title: Liberal Party of Canada\n",
            "Text: Scholars and political experts have recently used a political realignment model to explain what was considered a collapse of a dominant party, and put its condition in long-term perspective. According to recent scholarship, there have been four party systems in Canada at the federal level since Conf...\n",
            "--------------------------------------------------\n",
            "i:7\n",
            "Title: Stephen Harper\n",
            "Text: In 2010, Canada lost a bid for a seat on the UN Security Council. While initially blaming the loss on his rival Ignatieff, Harper later said that it was due to his pro-Israeli stance. Harper then said that he would take a pro-Israeli stance, no matter what the political cost to Canada. Ignatieff cri...\n",
            "--------------------------------------------------\n",
            "i:8\n",
            "Title: Monarchy of Canada\n",
            "Text: John Pepall argued in 1990 that a \"Liberal-inspired republican misconception of the role\" of governor general had taken root, though the Conservative government headed by Brian Mulroney exacerbated the matter. The position of prime minister has simultaneously undergone, with encouragement from its o...\n",
            "--------------------------------------------------\n",
            "i:9\n",
            "Title: Flag of Canada\n",
            "Text: In 1961, Leader of the Opposition Lester Pearson asked John Ross Matheson to begin researching what it would take for Canada to have a new flag. By April 1963, Pearson was prime minister in a minority government and risked losing power over the issue. He formed a 15-member multi-party parliamentary ...\n",
            "--------------------------------------------------\n",
            "\n",
            "--- Reranked Results ---\n",
            "\n",
            "i:0\n",
            "Title: Monarchy of Canada\n",
            "Text: In his 1990 book, \"Continental Divide: the Values and Institutions of the United States and Canada,\" Seymour Martin Lipset argues that the presence of the monarchy in Canada helps distinguish Canadian identity from American identity. Since at least the 1930s, supporters of the Crown have held the op...\n",
            "Relevance Score: 2182\n",
            "--------------------------------------------------\n",
            "i:1\n",
            "Title: Prime Minister of Canada\n",
            "Text: Pierre Trudeau is credited with, throughout his tenure as prime minister between 1968 and 1984, consolidating power in the PMO, which is itself filled by political and administrative staff selected at the prime minister's discretion and unaccountable to Parliament. At the end of the 20th century and...\n",
            "Relevance Score: 1452\n",
            "--------------------------------------------------\n",
            "i:2\n",
            "Title: Flag of Canada\n",
            "Text: There, near the parade square, in March 1964, while viewing the college flag atop the Mackenzie Building, Stanley, then RMC's Dean of Arts, first suggested to Matheson, then Member of Parliament for Leeds, that the RMC flag should form the basis of the national flag. The suggestion was followed by S...\n",
            "Relevance Score: 1371\n",
            "--------------------------------------------------\n",
            "i:3\n",
            "Title: Early modern period\n",
            "Text: North America outside the zone of Spanish settlement was a contested area in the 17th century. Spain had founded small settlements in Florida and Georgia but nowhere near the size of those in New Spain or the Caribbean islands. France, The Netherlands, and Great Britain held several colonies in Nort...\n",
            "Relevance Score: 1368\n",
            "--------------------------------------------------\n",
            "i:4\n",
            "Title: Flag of Canada\n",
            "Text: By the Second World War, the Red Ensign was viewed as Canada's \"de facto\" national flag. A joint committee of the Senate and House of Commons was appointed on November 8, 1945, to recommend a national flag to officially adopt. It received 2,409 designs from the public and was addressed by the direct...\n",
            "Relevance Score: 1207\n",
            "--------------------------------------------------\n"
          ]
        }
      ]
    },
    {
      "cell_type": "code",
      "execution_count": 15,
      "id": "4da5c744-01b8-4780-a615-0a5edf9bfbd6",
      "metadata": {
        "height": 30,
        "id": "4da5c744-01b8-4780-a615-0a5edf9bfbd6",
        "colab": {
          "base_uri": "https://localhost:8080/"
        },
        "outputId": "8651cc9f-28d3-45ac-c7f8-c843b9c59e94"
      },
      "outputs": [
        {
          "output_type": "stream",
          "name": "stdout",
          "text": [
            "\n",
            "--- Original Results ---\n",
            "\n",
            "i:0\n",
            "Title: Pejorative\n",
            "Text: When a term begins as pejorative and eventually is adopted in a non-pejorative sense, this is called \"melioration\" or \"amelioration\". One example is the shift in meaning of the word \"nice\" from meaning a person was foolish to meaning that a person is pleasant. When performed deliberately, it is desc...\n",
            "Relevance Score: No Score\n",
            "--------------------------------------------------\n",
            "i:1\n",
            "Title: Ages of consent in Europe\n",
            "Text: Prior to the 1922 independence of the Irish Free State, the law in Ireland was that of the United Kingdom of Great Britain and Ireland (see the UK history section). Anal sex was illegal under the Offences against the Person Act 1861, while the Criminal Law Amendment Act 1885 criminalised \"Defilement...\n",
            "Relevance Score: No Score\n",
            "--------------------------------------------------\n",
            "i:2\n",
            "Title: History of Japan\n",
            "Text: The population of Japan peaked at 128,083,960 in 2008. It had decreased by 2,373,960 by December 2020. In 2011, the economy of China became the world's second largest. Japan's economy descended to third largest by nominal GDP. Despite Japan's economic difficulties, this period also saw Japanese popu...\n",
            "Relevance Score: No Score\n",
            "--------------------------------------------------\n",
            "i:3\n",
            "Title: Destiny (streamer)\n",
            "Text: Bonnell describes himself as an \"omniliberal\", a phrase he uses to describe a person who believes in the core principles of liberalism, freedom and equality, whilst believing in elements of other ideologies in a \"pragmatic way\". Bonnell has also described himself as \"a very big social democrat\". He ...\n",
            "Relevance Score: No Score\n",
            "--------------------------------------------------\n",
            "i:4\n",
            "Title: Seven Summits\n",
            "Text: Alpinism author Jon Krakauer (1997) wrote in \"Into Thin Air\" that it would be a bigger challenge to climb the second-highest peak of each continent, known as the Seven Second Summits – a feat that was not accomplished until January 2013. This discussion had previously been published in an article ti...\n",
            "Relevance Score: No Score\n",
            "--------------------------------------------------\n",
            "i:5\n",
            "Title: Hamad bin Khalifa Al Thani\n",
            "Text: Hamad was able to focus on turning Qatar from a small desert backwater into a major world power by continuing to exploit the country’s vast oil fields and discovering and tapping the world’s third largest gas reserves. By 2010 liquefied natural gas production had reached 77 million tons, making Qata...\n",
            "Relevance Score: No Score\n",
            "--------------------------------------------------\n",
            "i:6\n",
            "Title: Earl Warren\n",
            "Text: Warren is generally considered to be one of the most influential U.S. Supreme Court justices, as well as political leaders in the history of the United States. The Warren Court has been recognized by many to have created a liberal \"Constitutional Revolution\", which embodied a deep belief in equal ju...\n",
            "Relevance Score: No Score\n",
            "--------------------------------------------------\n",
            "i:7\n",
            "Title: History of slavery\n",
            "Text: By 1862 most northern leaders realized that the mainstay of Southern secession, slavery, had to be attacked head-on. All the border states rejected President Lincoln's proposal for compensated emancipation. However, by 1865 all had begun the abolition of slavery, except Kentucky and Delaware. The Em...\n",
            "Relevance Score: No Score\n",
            "--------------------------------------------------\n",
            "i:8\n",
            "Title: History of mathematics\n",
            "Text: Paul Erdős published more papers than any other mathematician in history, working with hundreds of collaborators. Mathematicians have a game equivalent to the Kevin Bacon Game, which leads to the Erdős number of a mathematician. This describes the \"collaborative distance\" between a person and Erdős,...\n",
            "Relevance Score: No Score\n",
            "--------------------------------------------------\n",
            "i:9\n",
            "Title: Ages of consent in Europe\n",
            "Text: Section 223, part 1, reads: \"Any person who has sexual intercourse with any child under 18, who is said person's adopted child, stepchild or foster child, or who is entrusted to said person for education or upbringing, will be liable to imprisonment for any term not exceeding four years\", this inclu...\n",
            "Relevance Score: No Score\n",
            "--------------------------------------------------\n",
            "\n",
            "--- Prepared Documents for Reranking ---\n",
            "\n",
            "i:0\n",
            "Title: Pejorative\n",
            "Text: When a term begins as pejorative and eventually is adopted in a non-pejorative sense, this is called \"melioration\" or \"amelioration\". One example is the shift in meaning of the word \"nice\" from meaning a person was foolish to meaning that a person is pleasant. When performed deliberately, it is desc...\n",
            "--------------------------------------------------\n",
            "i:1\n",
            "Title: Ages of consent in Europe\n",
            "Text: Prior to the 1922 independence of the Irish Free State, the law in Ireland was that of the United Kingdom of Great Britain and Ireland (see the UK history section). Anal sex was illegal under the Offences against the Person Act 1861, while the Criminal Law Amendment Act 1885 criminalised \"Defilement...\n",
            "--------------------------------------------------\n",
            "i:2\n",
            "Title: History of Japan\n",
            "Text: The population of Japan peaked at 128,083,960 in 2008. It had decreased by 2,373,960 by December 2020. In 2011, the economy of China became the world's second largest. Japan's economy descended to third largest by nominal GDP. Despite Japan's economic difficulties, this period also saw Japanese popu...\n",
            "--------------------------------------------------\n",
            "i:3\n",
            "Title: Destiny (streamer)\n",
            "Text: Bonnell describes himself as an \"omniliberal\", a phrase he uses to describe a person who believes in the core principles of liberalism, freedom and equality, whilst believing in elements of other ideologies in a \"pragmatic way\". Bonnell has also described himself as \"a very big social democrat\". He ...\n",
            "--------------------------------------------------\n",
            "i:4\n",
            "Title: Seven Summits\n",
            "Text: Alpinism author Jon Krakauer (1997) wrote in \"Into Thin Air\" that it would be a bigger challenge to climb the second-highest peak of each continent, known as the Seven Second Summits – a feat that was not accomplished until January 2013. This discussion had previously been published in an article ti...\n",
            "--------------------------------------------------\n",
            "i:5\n",
            "Title: Hamad bin Khalifa Al Thani\n",
            "Text: Hamad was able to focus on turning Qatar from a small desert backwater into a major world power by continuing to exploit the country’s vast oil fields and discovering and tapping the world’s third largest gas reserves. By 2010 liquefied natural gas production had reached 77 million tons, making Qata...\n",
            "--------------------------------------------------\n",
            "i:6\n",
            "Title: Earl Warren\n",
            "Text: Warren is generally considered to be one of the most influential U.S. Supreme Court justices, as well as political leaders in the history of the United States. The Warren Court has been recognized by many to have created a liberal \"Constitutional Revolution\", which embodied a deep belief in equal ju...\n",
            "--------------------------------------------------\n",
            "i:7\n",
            "Title: History of slavery\n",
            "Text: By 1862 most northern leaders realized that the mainstay of Southern secession, slavery, had to be attacked head-on. All the border states rejected President Lincoln's proposal for compensated emancipation. However, by 1865 all had begun the abolition of slavery, except Kentucky and Delaware. The Em...\n",
            "--------------------------------------------------\n",
            "i:8\n",
            "Title: History of mathematics\n",
            "Text: Paul Erdős published more papers than any other mathematician in history, working with hundreds of collaborators. Mathematicians have a game equivalent to the Kevin Bacon Game, which leads to the Erdős number of a mathematician. This describes the \"collaborative distance\" between a person and Erdős,...\n",
            "--------------------------------------------------\n",
            "i:9\n",
            "Title: Ages of consent in Europe\n",
            "Text: Section 223, part 1, reads: \"Any person who has sexual intercourse with any child under 18, who is said person's adopted child, stepchild or foster child, or who is entrusted to said person for education or upbringing, will be liable to imprisonment for any term not exceeding four years\", this inclu...\n",
            "--------------------------------------------------\n",
            "\n",
            "--- Reranked Results ---\n",
            "\n",
            "i:0\n",
            "Title: Hamad bin Khalifa Al Thani\n",
            "Text: Hamad was able to focus on turning Qatar from a small desert backwater into a major world power by continuing to exploit the country’s vast oil fields and discovering and tapping the world’s third largest gas reserves. By 2010 liquefied natural gas production had reached 77 million tons, making Qata...\n",
            "Relevance Score: 2467\n",
            "--------------------------------------------------\n",
            "i:1\n",
            "Title: Ages of consent in Europe\n",
            "Text: Prior to the 1922 independence of the Irish Free State, the law in Ireland was that of the United Kingdom of Great Britain and Ireland (see the UK history section). Anal sex was illegal under the Offences against the Person Act 1861, while the Criminal Law Amendment Act 1885 criminalised \"Defilement...\n",
            "Relevance Score: 2189\n",
            "--------------------------------------------------\n",
            "i:2\n",
            "Title: History of slavery\n",
            "Text: By 1862 most northern leaders realized that the mainstay of Southern secession, slavery, had to be attacked head-on. All the border states rejected President Lincoln's proposal for compensated emancipation. However, by 1865 all had begun the abolition of slavery, except Kentucky and Delaware. The Em...\n",
            "Relevance Score: 1253\n",
            "--------------------------------------------------\n",
            "i:3\n",
            "Title: Seven Summits\n",
            "Text: Alpinism author Jon Krakauer (1997) wrote in \"Into Thin Air\" that it would be a bigger challenge to climb the second-highest peak of each continent, known as the Seven Second Summits – a feat that was not accomplished until January 2013. This discussion had previously been published in an article ti...\n",
            "Relevance Score: 998\n",
            "--------------------------------------------------\n",
            "i:4\n",
            "Title: Destiny (streamer)\n",
            "Text: Bonnell describes himself as an \"omniliberal\", a phrase he uses to describe a person who believes in the core principles of liberalism, freedom and equality, whilst believing in elements of other ideologies in a \"pragmatic way\". Bonnell has also described himself as \"a very big social democrat\". He ...\n",
            "Relevance Score: 962\n",
            "--------------------------------------------------\n"
          ]
        }
      ],
      "source": [
        "query_2 = \"Who is the tallest person in history?\"\n",
        "\n",
        "# Fetch original results (ensure `client` is correctly configured for Weaviate)\n",
        "results = keyword_search(\n",
        "    query_2,\n",
        "    results_lang='en',\n",
        "    properties=[\"text\", \"title\", \"url\", \"views\", \"lang\", \"_additional {distance}\"],\n",
        "    num_results=10\n",
        "    )\n",
        "\n",
        "# Print original results\n",
        "print_results(results)\n",
        "\n",
        "# Prepare documents for reranking\n",
        "documents = prepare_for_reranking(results)\n",
        "\n",
        "# Print prepared results with relevance scores\n",
        "print(\"\\n--- Prepared Documents for Reranking ---\\n\")\n",
        "for i, doc in enumerate(documents):\n",
        "    print(f\"i:{i}\")\n",
        "    print(f\"Title: {doc['title']}\")\n",
        "    print(f\"Text: {doc['text'][:300]}...\")  # Truncated for brevity\n",
        "    #print(f\"Relevance Score: {doc['score']}\")\n",
        "    print(\"-\" * 50)\n",
        "\n",
        "# Perform reranking\n",
        "reranked_results = rerank_results(query_2, documents, top_n=5)\n",
        "\n",
        "# Print reranked results with relevance scores\n",
        "print_results(reranked_results, reranked=True)"
      ]
    },
    {
      "cell_type": "code",
      "execution_count": 15,
      "id": "a1c633a4-daea-4d8a-983d-807fc612874b",
      "metadata": {
        "height": 30,
        "id": "a1c633a4-daea-4d8a-983d-807fc612874b"
      },
      "outputs": [],
      "source": []
    }
  ],
  "metadata": {
    "kernelspec": {
      "display_name": "Python 3 (ipykernel)",
      "language": "python",
      "name": "python3"
    },
    "language_info": {
      "codemirror_mode": {
        "name": "ipython",
        "version": 3
      },
      "file_extension": ".py",
      "mimetype": "text/x-python",
      "name": "python",
      "nbconvert_exporter": "python",
      "pygments_lexer": "ipython3",
      "version": "3.9.19"
    },
    "colab": {
      "provenance": [],
      "include_colab_link": true
    }
  },
  "nbformat": 4,
  "nbformat_minor": 5
}